{
 "cells": [
  {
   "cell_type": "markdown",
   "metadata": {},
   "source": [
    "# ANOVA \n",
    "\n",
    "## Introduction\n",
    "\n",
    "ANOVA (Analysis of Variance) is a method for generalizing statistical tests to multiple groups. As you'll see, ANOVA  analyses the overall variance of a dataset by partitioning the total sum of square of deviations (from the mean) into sum of squares for each of these groups and sum of squares for error. By comparing statistical test for multiple groups, it can serve as a useful alternative to the $t$-tests you've encountered thus far, when you wish to test multiple factors simultaneously.\n",
    "\n",
    "## Objectives\n",
    "\n",
    "You will be able to:\n",
    "* Use ANOVA for testing multiple pairwise comparisons\n",
    "* Understand and explain the methodology behind ANOVA tests\n",
    "\n",
    "### Analysis of Variance:\n",
    "\n",
    "- The main problem is: Can we determine whether a set of population means are the same or different from samples from these populations.\n",
    "\n",
    "- Natural Question: Hint: What other test we were using for similar procedure - why can't we use the same (or modified version) here? (Let's count if we have 10 different population how many tests we should do in total?)\n",
    "\n",
    "- Even if we were able to use above method, what happens to the significance levels?\n",
    "\n",
    "The main idea: We will compare variances within the group with the total variance to be able to say that whether population means are equal or not.\n",
    "\n",
    "__Wait!!__ Why use the variance to compare the means?\n",
    "\n",
    "Let's check this from a scenerio!!"
   ]
  },
  {
   "cell_type": "code",
   "execution_count": 1,
   "metadata": {},
   "outputs": [],
   "source": [
    "import numpy as np\n",
    "\n",
    "import pandas as pd\n",
    "\n",
    "import matplotlib.pyplot as plt\n"
   ]
  },
  {
   "cell_type": "code",
<<<<<<< HEAD
   "execution_count": 2,
=======
   "execution_count": 10,
>>>>>>> b636df2ce0dcfa3c25e3dccadbec789ba4e7bffe
   "metadata": {},
   "outputs": [
    {
     "data": {
      "text/html": [
       "<div>\n",
       "<style scoped>\n",
       "    .dataframe tbody tr th:only-of-type {\n",
       "        vertical-align: middle;\n",
       "    }\n",
       "\n",
       "    .dataframe tbody tr th {\n",
       "        vertical-align: top;\n",
       "    }\n",
       "\n",
       "    .dataframe thead th {\n",
       "        text-align: right;\n",
       "    }\n",
       "</style>\n",
       "<table border=\"1\" class=\"dataframe\">\n",
       "  <thead>\n",
       "    <tr style=\"text-align: right;\">\n",
       "      <th></th>\n",
       "      <th>0</th>\n",
       "      <th>1</th>\n",
       "      <th>2</th>\n",
       "      <th>3</th>\n",
       "      <th>4</th>\n",
       "      <th>5</th>\n",
       "    </tr>\n",
       "  </thead>\n",
       "  <tbody>\n",
       "    <tr>\n",
       "      <th>0</th>\n",
<<<<<<< HEAD
       "      <td>6.193814</td>\n",
       "      <td>9.937942</td>\n",
       "      <td>16.138621</td>\n",
       "      <td>0.766601</td>\n",
       "      <td>10.114913</td>\n",
       "      <td>14.468454</td>\n",
       "    </tr>\n",
       "    <tr>\n",
       "      <th>1</th>\n",
       "      <td>6.118098</td>\n",
       "      <td>9.840712</td>\n",
       "      <td>13.865917</td>\n",
       "      <td>8.737742</td>\n",
       "      <td>10.500679</td>\n",
       "      <td>22.741701</td>\n",
       "    </tr>\n",
       "    <tr>\n",
       "      <th>2</th>\n",
       "      <td>5.925967</td>\n",
       "      <td>10.102661</td>\n",
       "      <td>15.121021</td>\n",
       "      <td>6.655313</td>\n",
       "      <td>15.324142</td>\n",
       "      <td>12.260474</td>\n",
       "    </tr>\n",
       "    <tr>\n",
       "      <th>3</th>\n",
       "      <td>5.928105</td>\n",
       "      <td>10.256850</td>\n",
       "      <td>15.534333</td>\n",
       "      <td>6.291686</td>\n",
       "      <td>17.429825</td>\n",
       "      <td>15.698109</td>\n",
       "    </tr>\n",
       "    <tr>\n",
       "      <th>4</th>\n",
       "      <td>5.901019</td>\n",
       "      <td>9.850366</td>\n",
       "      <td>14.467017</td>\n",
       "      <td>4.123553</td>\n",
       "      <td>15.968276</td>\n",
       "      <td>15.032411</td>\n",
=======
       "      <td>5.929400</td>\n",
       "      <td>9.992166</td>\n",
       "      <td>16.333820</td>\n",
       "      <td>2.056823</td>\n",
       "      <td>3.922580</td>\n",
       "      <td>19.020042</td>\n",
       "    </tr>\n",
       "    <tr>\n",
       "      <th>1</th>\n",
       "      <td>6.054200</td>\n",
       "      <td>10.220579</td>\n",
       "      <td>14.933036</td>\n",
       "      <td>4.961636</td>\n",
       "      <td>18.781563</td>\n",
       "      <td>21.459459</td>\n",
       "    </tr>\n",
       "    <tr>\n",
       "      <th>2</th>\n",
       "      <td>6.023264</td>\n",
       "      <td>10.263283</td>\n",
       "      <td>14.510727</td>\n",
       "      <td>4.665054</td>\n",
       "      <td>10.134260</td>\n",
       "      <td>11.606881</td>\n",
       "    </tr>\n",
       "    <tr>\n",
       "      <th>3</th>\n",
       "      <td>5.899604</td>\n",
       "      <td>9.765582</td>\n",
       "      <td>15.383706</td>\n",
       "      <td>4.828708</td>\n",
       "      <td>7.539921</td>\n",
       "      <td>19.480032</td>\n",
       "    </tr>\n",
       "    <tr>\n",
       "      <th>4</th>\n",
       "      <td>6.134685</td>\n",
       "      <td>9.773628</td>\n",
       "      <td>14.730597</td>\n",
       "      <td>4.387935</td>\n",
       "      <td>5.092563</td>\n",
       "      <td>15.243967</td>\n",
>>>>>>> b636df2ce0dcfa3c25e3dccadbec789ba4e7bffe
       "    </tr>\n",
       "  </tbody>\n",
       "</table>\n",
       "</div>"
      ],
      "text/plain": [
       "          0          1          2         3          4          5\n",
<<<<<<< HEAD
       "0  6.193814   9.937942  16.138621  0.766601  10.114913  14.468454\n",
       "1  6.118098   9.840712  13.865917  8.737742  10.500679  22.741701\n",
       "2  5.925967  10.102661  15.121021  6.655313  15.324142  12.260474\n",
       "3  5.928105  10.256850  15.534333  6.291686  17.429825  15.698109\n",
       "4  5.901019   9.850366  14.467017  4.123553  15.968276  15.032411"
      ]
     },
     "execution_count": 2,
=======
       "0  5.929400   9.992166  16.333820  2.056823   3.922580  19.020042\n",
       "1  6.054200  10.220579  14.933036  4.961636  18.781563  21.459459\n",
       "2  6.023264  10.263283  14.510727  4.665054  10.134260  11.606881\n",
       "3  5.899604   9.765582  15.383706  4.828708   7.539921  19.480032\n",
       "4  6.134685   9.773628  14.730597  4.387935   5.092563  15.243967"
      ]
     },
     "execution_count": 10,
>>>>>>> b636df2ce0dcfa3c25e3dccadbec789ba4e7bffe
     "metadata": {},
     "output_type": "execute_result"
    }
   ],
   "source": [
    "## case1\n",
    "\n",
    "sample1 = np.random.normal(loc = 6, scale = 0.1, size = 20)\n",
    "\n",
    "sample2 = np.random.normal(loc = 10, scale = 0.2, size = 20)\n",
    "\n",
    "sample3 = np.random.normal(loc = 15, scale = 1, size = 20)\n",
    "\n",
    "## case2\n",
    "\n",
    "sample4 = np.random.normal(loc = 6, scale = 3, size = 20)\n",
    "sample5 = np.random.normal(loc = 10, scale = 5, size = 20)\n",
    "sample6 = np.random.normal(loc = 15, scale = 5, size = 20)\n",
    "\n",
    "df = pd.DataFrame(data = [sample1, sample2, sample3, sample4, sample5, sample6]).T\n",
    "\n",
    "df.head()"
   ]
  },
  {
   "cell_type": "code",
<<<<<<< HEAD
   "execution_count": 3,
=======
   "execution_count": 11,
>>>>>>> b636df2ce0dcfa3c25e3dccadbec789ba4e7bffe
   "metadata": {},
   "outputs": [],
   "source": [
    "df.rename(columns= {0:'s1', 1:'s2', 2:'s3', 3:'s4', 4:'s5', 5:'s6'}, inplace= True)"
   ]
  },
  {
   "cell_type": "code",
<<<<<<< HEAD
   "execution_count": 4,
=======
   "execution_count": 8,
>>>>>>> b636df2ce0dcfa3c25e3dccadbec789ba4e7bffe
   "metadata": {},
   "outputs": [],
   "source": [
    "import seaborn as sns"
   ]
  },
  {
   "cell_type": "code",
<<<<<<< HEAD
   "execution_count": 5,
=======
   "execution_count": 9,
>>>>>>> b636df2ce0dcfa3c25e3dccadbec789ba4e7bffe
   "metadata": {},
   "outputs": [
    {
     "data": {
<<<<<<< HEAD
      "image/png": "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\n",
=======
      "image/png": "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\n",
>>>>>>> b636df2ce0dcfa3c25e3dccadbec789ba4e7bffe
      "text/plain": [
       "<Figure size 432x288 with 1 Axes>"
      ]
     },
     "metadata": {
      "needs_background": "light"
     },
     "output_type": "display_data"
    }
   ],
   "source": [
    "df.boxplot()\n",
    "plt.tight_layout()"
   ]
  },
  {
   "cell_type": "code",
<<<<<<< HEAD
   "execution_count": 7,
=======
   "execution_count": 12,
>>>>>>> b636df2ce0dcfa3c25e3dccadbec789ba4e7bffe
   "metadata": {},
   "outputs": [
    {
     "name": "stdout",
     "output_type": "stream",
     "text": [
<<<<<<< HEAD
      "Means of the samples are:  6.002172195804206 9.999145255729175 14.879939095326629 \n",
      " 5.6198096238664395 9.727317574711368 13.975563064117827\n"
=======
      "Means of the samples are:  6.031213326868185 9.950221728695407 14.954726134853479 \n",
      " 5.598235991584722 10.557295735886726 15.551540903286744\n"
>>>>>>> b636df2ce0dcfa3c25e3dccadbec789ba4e7bffe
     ]
    }
   ],
   "source": [
    "print('Means of the samples are: ', sample1.mean(), \n",
    "      sample2.mean(),\n",
    "      sample3.mean(), '\\n',\n",
    "      sample4.mean(),\n",
    "      sample5.mean(),\n",
    "      sample6.mean())"
   ]
  },
  {
   "cell_type": "markdown",
   "metadata": {},
   "source": [
    "Note that here even though the variations of $\\{s_1, s_2, s_3\\}$ equals to the variations of the means in $\\{s_4, s_5, s_6\\}$ we can see this as a stronger evidence to argue that the population means are different in the first group.\n",
    "\n",
    "__Summary__ ANOVA: comparison of the variance among the means of the populations to the variance among sample observations within the individual populations.\n",
    "\n",
    "### Notation\n",
    "\n",
    "- $t$: total number of populations\n",
    "\n",
    "- $n_{i}$ number of observations within the sample $i$ drawn from the population $i$.\n",
    "\n",
    "- $y_{ij}$: the measurement for the $j$th observation from the $i$th sample.\n",
    "\n",
    "- $\\mu_{i}$ is the mean for the $i$th population.\n",
    "\n",
    "__observations__\n",
    "\n",
    "$n = \\sum\\limits_{i} n_{i}$ is the total number of observations\n",
    "\n",
    "### Hypotheses\n",
    "\n",
    "-  $H_{0}: \\mu_{1} = \\mu_{2} = \\cdots = \\mu_{t}$ \n",
    "\n",
    "- $H_{a}$: at least one of the equality is not satisfied"
   ]
  },
  {
   "cell_type": "code",
   "execution_count": 13,
   "metadata": {},
   "outputs": [],
   "source": [
    "from scipy.stats import f"
   ]
  },
  {
   "cell_type": "code",
   "execution_count": 14,
   "metadata": {},
   "outputs": [],
   "source": [
    "## let's create a data set first\n",
    "\n",
    "\n",
    "## sample sizes for different groups\n",
    "n1 =20\n",
    "n2=20\n",
    "n3 =20\n",
    "n4 = 20\n",
    "\n",
    "## number of groups\n",
    "t = 4"
   ]
  },
  {
   "cell_type": "code",
   "execution_count": 15,
   "metadata": {},
   "outputs": [],
   "source": [
    "np.random.seed(100719)\n",
    "\n",
    "x1 = np.random.normal(loc = 950, scale = 100, size = n1)\n",
    "\n",
    "x2 = np.random.normal(loc = 928, scale = np.sqrt(3800), size = n2)\n",
    "\n",
    "x3 = np.random.normal(loc = 938, scale = np.sqrt(13617), size = n3)\n",
    "\n",
    "x4 = np.random.normal(loc = 1116, scale = np.sqrt(23000), size = n4)\n",
    "\n",
    "# df = pd.DataFrame(data = np.stack([x1, x2,x3,x4], axis = 1), columns= ['s1', 's2', 's3', 's4'],\n",
    "#                   index = np.arange(1, len(x2)+1))"
   ]
  },
  {
   "cell_type": "code",
   "execution_count": 16,
   "metadata": {},
   "outputs": [],
   "source": [
    "# df.head()"
   ]
  },
  {
   "cell_type": "markdown",
   "metadata": {},
   "source": [
    "## Hypothesis\n",
    "\n",
    "$H_{0}$: $\\mu_{1} = \\mu_{2} = \\mu_{3} = \\mu_{4}$\n",
    "\n",
    "$H_{a}$: not all means are equal.\n",
    "\n",
    "For more details on how to construct hypotheses testing with ANOVA model please check:\n",
    "\n",
    "[Penn State - The 7 Step Process of Statistical Hypothesis Testing](https://newonlinecourses.science.psu.edu/stat502/lesson/1/1.2)\n",
    "\n",
    "\n",
    "\n",
    "\n",
    "\n"
   ]
  },
  {
   "cell_type": "code",
   "execution_count": 18,
   "metadata": {},
   "outputs": [],
   "source": [
    "## Let's find these quantities with Python\n",
    "\n",
    "all_data = np.stack([x1, x2,x3,x4], axis = 1)\n",
    "overall_mean = all_data.mean()"
   ]
  },
  {
   "cell_type": "code",
   "execution_count": 19,
   "metadata": {},
   "outputs": [
    {
     "name": "stdout",
     "output_type": "stream",
     "text": [
      "554712.4606001556\n"
     ]
    }
   ],
   "source": [
    "## Note that all_data is a (20,4) numpy_ndarray\n",
    "ss_total = ((all_data - overall_mean)**2).sum()\n",
    "\n",
    "## Function that calculates between group error\n",
    "def ss_between_groups(sample_list):\n",
    "    X_bar = np.stack(sample_list, axis=1).mean()\n",
    "    terms = [len(sample)*(sample.mean() - X_bar)**2 for sample in sample_list]\n",
    "    return np.sum(terms)\n",
    "print(ss_between_groups([x1, x2, x3, x4]))"
   ]
  },
  {
   "cell_type": "code",
   "execution_count": 20,
   "metadata": {},
   "outputs": [
    {
     "name": "stdout",
     "output_type": "stream",
     "text": [
      "1043475.4297664801\n"
     ]
    }
   ],
   "source": [
    "## Note that right now we can find the error within the groups\n",
    "## by simply subtracting ss_between_groups from ss_total\n",
    "\n",
    "ss_within = ss_total - ss_between_groups([x1, x2, x3, x4])\n",
    "\n",
    "print(ss_within)"
   ]
  },
  {
   "cell_type": "code",
   "execution_count": 21,
   "metadata": {},
   "outputs": [],
   "source": [
    "## Or we can apply the formula:\n",
    "## A function that calculates within group error\n",
    "def ss_within_groups(sample_list):\n",
    "    terms = [(sample - sample.mean())**2 for sample in sample_list]\n",
    "    return np.sum(terms)"
   ]
  },
  {
   "cell_type": "code",
   "execution_count": 25,
   "metadata": {},
   "outputs": [
    {
     "name": "stdout",
     "output_type": "stream",
     "text": [
      "3\n",
      "76\n"
     ]
    }
   ],
   "source": [
    "## Degrees of freedom of numerator\n",
    "dfn = len([x1, x2, x3, x4]) - 1\n",
    "print(dfn)\n",
    "## Degree of freedom of denominator\n",
    "dfd = n1+n2+n3+n4 - len([x1, x2, x3,x4])\n",
    "print(dfd)"
   ]
  },
  {
   "cell_type": "code",
   "execution_count": 26,
   "metadata": {},
   "outputs": [
    {
     "name": "stdout",
     "output_type": "stream",
     "text": [
      "Within Group Error 1043475.4297664786\n",
      "Between Group Error 554712.4606001556\n",
      "Mean Squared Error Between Groups 184904.15353338522\n",
      "Mean Squared Error Within Groups 13729.939865348402\n"
     ]
    }
   ],
   "source": [
    "print('Within Group Error', ss_within_groups([x1, x2, x3, x4]))\n",
    "print('Between Group Error', ss_between_groups([x1, x2, x3, x4]))\n",
    "print('Mean Squared Error Between Groups', ss_between_groups([x1, x2, x3, x4])/dfn)\n",
    "print('Mean Squared Error Within Groups', ss_within_groups([x1, x2, x3, x4])/ dfd)"
   ]
  },
  {
   "cell_type": "code",
   "execution_count": 27,
   "metadata": {},
   "outputs": [
    {
     "name": "stdout",
     "output_type": "stream",
     "text": [
      "13.467222387480808\n"
     ]
    }
   ],
   "source": [
    "MSE_between_groups = ss_between_groups([x1, x2, x3, x4])/dfn\n",
    "MSE_within_groups = ss_within_groups([x1, x2, x3, x4])/ dfd\n",
    "\n",
    "## F_score comes from the ratio\n",
    "F_score = MSE_between_groups/ MSE_within_groups\n",
    "print(F_score)"
   ]
  },
  {
   "cell_type": "code",
   "execution_count": 28,
   "metadata": {},
   "outputs": [
    {
     "data": {
      "text/plain": [
       "F_onewayResult(statistic=13.46722238748083, pvalue=3.9030691818738904e-07)"
      ]
     },
     "execution_count": 28,
     "metadata": {},
     "output_type": "execute_result"
    }
   ],
   "source": [
    "## Or we can apply directly scipy.stats's f_oneway method \n",
    "\n",
    "import scipy.stats\n",
    "scipy.stats.f_oneway(x1,x2,x3,x4)"
   ]
  },
  {
   "cell_type": "markdown",
   "metadata": {},
   "source": [
    "For more details about the notation and formulas please check:\n",
    "\n",
    "[Penn State](https://newonlinecourses.science.psu.edu/stat502/lesson/2/2.2)"
   ]
  }
 ],
 "metadata": {
  "kernelspec": {
   "display_name": "Python 3",
   "language": "python",
   "name": "python3"
  },
  "language_info": {
   "codemirror_mode": {
    "name": "ipython",
    "version": 3
   },
   "file_extension": ".py",
   "mimetype": "text/x-python",
   "name": "python",
   "nbconvert_exporter": "python",
   "pygments_lexer": "ipython3",
   "version": "3.6.6"
  },
  "varInspector": {
   "cols": {
    "lenName": 16,
    "lenType": 16,
    "lenVar": 40
   },
   "kernels_config": {
    "python": {
     "delete_cmd_postfix": "",
     "delete_cmd_prefix": "del ",
     "library": "var_list.py",
     "varRefreshCmd": "print(var_dic_list())"
    },
    "r": {
     "delete_cmd_postfix": ") ",
     "delete_cmd_prefix": "rm(",
     "library": "var_list.r",
     "varRefreshCmd": "cat(var_dic_list()) "
    }
   },
   "types_to_exclude": [
    "module",
    "function",
    "builtin_function_or_method",
    "instance",
    "_Feature"
   ],
   "window_display": false
  }
 },
 "nbformat": 4,
 "nbformat_minor": 2
}
