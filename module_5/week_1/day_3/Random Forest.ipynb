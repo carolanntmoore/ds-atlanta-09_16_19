{
 "cells": [
  {
   "cell_type": "markdown",
   "metadata": {},
   "source": [
    "# Random Forest\n",
    "\n",
    "Slides: [link](https://docs.google.com/presentation/d/18KIHEHceqyeOGEOSPFZY-GWKGejYfztpqVruwCuf-QU/edit?usp=sharing)"
   ]
  },
  {
   "cell_type": "code",
<<<<<<< HEAD
   "execution_count": 42,
=======
   "execution_count": 4,
>>>>>>> ca0a55842c50d2d7a722837bdff285729eefcd5e
   "metadata": {},
   "outputs": [],
   "source": [
    "%matplotlib inline\n",
    "import numpy as np\n",
    "import matplotlib.pyplot as plt\n",
    "#import seaborn as sns; sns.set()\n",
    "import pandas as pd\n",
    "from sklearn.tree import DecisionTreeClassifier\n",
    "from sklearn.ensemble import RandomForestClassifier\n",
    "from IPython.display import Image  \n",
    "from sklearn import tree\n",
    "import pydotplus\n",
    "from sklearn import metrics\n",
    "#from sklearn.metrics import confusion_matrix\n",
    "from sklearn import preprocessing\n",
    "from sklearn.model_selection import train_test_split\n",
    "#from sklearn.metrics import f1_score\n",
    "from sklearn.model_selection import cross_val_score\n",
    "from sklearn.model_selection import GridSearchCV"
   ]
  },
  {
   "cell_type": "markdown",
   "metadata": {},
   "source": [
    "### Breast Cancer Random Forest Classifier"
   ]
  },
  {
   "cell_type": "code",
<<<<<<< HEAD
   "execution_count": 43,
=======
   "execution_count": 5,
>>>>>>> ca0a55842c50d2d7a722837bdff285729eefcd5e
   "metadata": {},
   "outputs": [],
   "source": [
    "bc=pd.read_csv('breast_cancer_scikit_onehot_dataset.csv')"
   ]
  },
  {
   "cell_type": "code",
<<<<<<< HEAD
   "execution_count": 44,
=======
   "execution_count": 6,
>>>>>>> ca0a55842c50d2d7a722837bdff285729eefcd5e
   "metadata": {},
   "outputs": [],
   "source": [
    "target=bc['class']\n",
    "target = bc['class'].map(lambda x: 1 if x == 4 else 0).values \n",
    "target = pd.Series(target)"
   ]
  },
  {
   "cell_type": "code",
<<<<<<< HEAD
   "execution_count": 45,
=======
   "execution_count": 7,
>>>>>>> ca0a55842c50d2d7a722837bdff285729eefcd5e
   "metadata": {},
   "outputs": [
    {
     "data": {
      "text/html": [
       "<div>\n",
       "<style scoped>\n",
       "    .dataframe tbody tr th:only-of-type {\n",
       "        vertical-align: middle;\n",
       "    }\n",
       "\n",
       "    .dataframe tbody tr th {\n",
       "        vertical-align: top;\n",
       "    }\n",
       "\n",
       "    .dataframe thead th {\n",
       "        text-align: right;\n",
       "    }\n",
       "</style>\n",
       "<table border=\"1\" class=\"dataframe\">\n",
       "  <thead>\n",
       "    <tr style=\"text-align: right;\">\n",
       "      <th></th>\n",
       "      <th>clump_thickness</th>\n",
       "      <th>uniformity_of_cell_size</th>\n",
       "      <th>uniformity_of_cell_shape</th>\n",
       "      <th>marginal_adhesion</th>\n",
       "      <th>single_epithelial_cell_size</th>\n",
       "      <th>bare_nuclei</th>\n",
       "      <th>bland_chromatin</th>\n",
       "      <th>normal_nucleoli</th>\n",
       "      <th>mitosis</th>\n",
       "    </tr>\n",
       "  </thead>\n",
       "  <tbody>\n",
       "    <tr>\n",
       "      <th>0</th>\n",
       "      <td>5.0</td>\n",
       "      <td>1.0</td>\n",
       "      <td>1.0</td>\n",
       "      <td>1.0</td>\n",
       "      <td>2.0</td>\n",
       "      <td>1.0</td>\n",
       "      <td>3.0</td>\n",
       "      <td>1.0</td>\n",
       "      <td>1.0</td>\n",
       "    </tr>\n",
       "    <tr>\n",
       "      <th>1</th>\n",
       "      <td>5.0</td>\n",
       "      <td>4.0</td>\n",
       "      <td>4.0</td>\n",
       "      <td>5.0</td>\n",
       "      <td>7.0</td>\n",
       "      <td>10.0</td>\n",
       "      <td>3.0</td>\n",
       "      <td>2.0</td>\n",
       "      <td>1.0</td>\n",
       "    </tr>\n",
       "    <tr>\n",
       "      <th>2</th>\n",
       "      <td>3.0</td>\n",
       "      <td>1.0</td>\n",
       "      <td>1.0</td>\n",
       "      <td>1.0</td>\n",
       "      <td>2.0</td>\n",
       "      <td>2.0</td>\n",
       "      <td>3.0</td>\n",
       "      <td>1.0</td>\n",
       "      <td>1.0</td>\n",
       "    </tr>\n",
       "    <tr>\n",
       "      <th>3</th>\n",
       "      <td>6.0</td>\n",
       "      <td>8.0</td>\n",
       "      <td>8.0</td>\n",
       "      <td>1.0</td>\n",
       "      <td>3.0</td>\n",
       "      <td>4.0</td>\n",
       "      <td>3.0</td>\n",
       "      <td>7.0</td>\n",
       "      <td>1.0</td>\n",
       "    </tr>\n",
       "    <tr>\n",
       "      <th>4</th>\n",
       "      <td>4.0</td>\n",
       "      <td>1.0</td>\n",
       "      <td>1.0</td>\n",
       "      <td>3.0</td>\n",
       "      <td>2.0</td>\n",
       "      <td>1.0</td>\n",
       "      <td>3.0</td>\n",
       "      <td>1.0</td>\n",
       "      <td>1.0</td>\n",
       "    </tr>\n",
       "  </tbody>\n",
       "</table>\n",
       "</div>"
      ],
      "text/plain": [
       "   clump_thickness  uniformity_of_cell_size  uniformity_of_cell_shape  \\\n",
       "0              5.0                      1.0                       1.0   \n",
       "1              5.0                      4.0                       4.0   \n",
       "2              3.0                      1.0                       1.0   \n",
       "3              6.0                      8.0                       8.0   \n",
       "4              4.0                      1.0                       1.0   \n",
       "\n",
       "   marginal_adhesion  single_epithelial_cell_size  bare_nuclei  \\\n",
       "0                1.0                          2.0          1.0   \n",
       "1                5.0                          7.0         10.0   \n",
       "2                1.0                          2.0          2.0   \n",
       "3                1.0                          3.0          4.0   \n",
       "4                3.0                          2.0          1.0   \n",
       "\n",
       "   bland_chromatin  normal_nucleoli  mitosis  \n",
       "0              3.0              1.0      1.0  \n",
       "1              3.0              2.0      1.0  \n",
       "2              3.0              1.0      1.0  \n",
       "3              3.0              7.0      1.0  \n",
       "4              3.0              1.0      1.0  "
      ]
     },
<<<<<<< HEAD
     "execution_count": 45,
=======
     "execution_count": 7,
>>>>>>> ca0a55842c50d2d7a722837bdff285729eefcd5e
     "metadata": {},
     "output_type": "execute_result"
    }
   ],
   "source": [
    "predictor=bc.drop(columns=['class'])\n",
    "predictor.head()"
   ]
  },
  {
   "cell_type": "code",
<<<<<<< HEAD
   "execution_count": 46,
=======
   "execution_count": 8,
>>>>>>> ca0a55842c50d2d7a722837bdff285729eefcd5e
   "metadata": {},
   "outputs": [
    {
     "data": {
      "text/plain": [
       "0    0.634446\n",
       "1    0.365554\n",
       "dtype: float64"
      ]
     },
<<<<<<< HEAD
     "execution_count": 46,
=======
     "execution_count": 8,
>>>>>>> ca0a55842c50d2d7a722837bdff285729eefcd5e
     "metadata": {},
     "output_type": "execute_result"
    }
   ],
   "source": [
    "target.value_counts(normalize=True)"
   ]
  },
  {
   "cell_type": "code",
<<<<<<< HEAD
   "execution_count": 47,
=======
   "execution_count": 9,
>>>>>>> ca0a55842c50d2d7a722837bdff285729eefcd5e
   "metadata": {},
   "outputs": [],
   "source": [
    "# Import train_test_split function\n",
    "# Split dataset into training set and test set\n",
    "X_train, X_test, y_train, y_test = train_test_split(predictor, target, test_size=0.3,random_state=9) "
   ]
  },
  {
   "cell_type": "code",
<<<<<<< HEAD
   "execution_count": 48,
=======
   "execution_count": 10,
>>>>>>> ca0a55842c50d2d7a722837bdff285729eefcd5e
   "metadata": {},
   "outputs": [
    {
     "data": {
      "text/plain": [
       "RandomForestClassifier(bootstrap=True, class_weight='balanced',\n",
       "                       criterion='gini', max_depth=None, max_features='auto',\n",
       "                       max_leaf_nodes=16, min_impurity_decrease=0.0,\n",
       "                       min_impurity_split=None, min_samples_leaf=1,\n",
       "                       min_samples_split=2, min_weight_fraction_leaf=0.0,\n",
       "                       n_estimators=500, n_jobs=-1, oob_score=False,\n",
       "                       random_state=None, verbose=0, warm_start=False)"
      ]
     },
<<<<<<< HEAD
     "execution_count": 48,
=======
     "execution_count": 10,
>>>>>>> ca0a55842c50d2d7a722837bdff285729eefcd5e
     "metadata": {},
     "output_type": "execute_result"
    }
   ],
   "source": [
    "# fit our model\n",
    "rnd_clf = RandomForestClassifier(n_estimators=500, max_leaf_nodes=16,class_weight='balanced', n_jobs=-1)\n",
    "rnd_clf.fit(X_train, y_train)"
   ]
  },
  {
   "cell_type": "code",
<<<<<<< HEAD
   "execution_count": 49,
=======
   "execution_count": 11,
>>>>>>> ca0a55842c50d2d7a722837bdff285729eefcd5e
   "metadata": {},
   "outputs": [],
   "source": [
    "importances = rnd_clf.feature_importances_"
   ]
  },
  {
   "cell_type": "code",
<<<<<<< HEAD
   "execution_count": 50,
=======
   "execution_count": 12,
>>>>>>> ca0a55842c50d2d7a722837bdff285729eefcd5e
   "metadata": {},
   "outputs": [
    {
     "data": {
<<<<<<< HEAD
      "image/png": "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\n",
=======
      "image/png": "iVBORw0KGgoAAAANSUhEUgAAAX0AAAF+CAYAAABu7cr/AAAABHNCSVQICAgIfAhkiAAAAAlwSFlzAAALEgAACxIB0t1+/AAAADl0RVh0U29mdHdhcmUAbWF0cGxvdGxpYiB2ZXJzaW9uIDMuMC4zLCBodHRwOi8vbWF0cGxvdGxpYi5vcmcvnQurowAAIABJREFUeJzt3XmcZVV57vHfQyOTAkIgKiI0EpAgCmoLDjiLggQwCggGRESIA0GjyRU1iqLGKQ6JE6CCBJwYoraKQRxAEEGaGVSu2CAgXmkGBQXBhuf+sfahT1efqjo91N67Wc/386lP1d7nnNpv7ap6z95rrXct2SYiIuqwStcBREREe5L0IyIqkqQfEVGRJP2IiIok6UdEVCRJPyKiIkn6EREVSdKP5SbpWkl3Sfrj0MdGy/k9ny3phhUV45jH/IKk97Z5zMlIepekE7uOIx54kvRjRdnN9kOGPm7sMhhJq3Z5/OWxMsce/ZekHzNK0lMknSvp95IulfTsoccOlPRzSXdImi/pH5v9Dwa+A2w0fOcw8Up84t1Ac8fxFkmXAX+StGrzulMlLZB0jaTDxox7tiQ3MV4v6TZJr5H0ZEmXNT/PJ4ee/0pJP5b0CUl/kPQLSc8benwjSXMl3SrpakkHDz32LkmnSDpR0u3Aa4C3AS9rfvZLpzpfw+dC0psl3STpt5IOHHp8TUkfkfTrJr5zJK053e8oHnhyRREzRtIjgW8D+wP/CzwPOFXSVrYXADcBfwfMB54JfEfSBbYvkrQLcKLtjYe+3ziH3RfYFbgZuA/4JvCNZv/GwPckXWX79DF/jB2ALZr45jY/x/OBBwEXSzrZ9llDzz0F2AB4CfA/kjazfSvwZeBKYCNgK+AMSfNtf7957R7AXsArgNWb7/E3tvcbimXS89U8/nBgXeCRwE7AKZK+bvs24D+AxwJPA/5fE+t9Y/yO4gEmV/qxony9uVL8vaSvN/v2A06zfZrt+2yfAcwDXgRg+9u2f+XiLOC7wDOWM47/sn297buAJwMb2j7S9j225wOfBfZZiu/3Htt/tv1d4E/Al23fZPs3wNnAE4aeexPwcdt/sf1V4CpgV0mPAnYE3tJ8r0uAz1ES7cBPbH+9OU93jQpkjPP1F+DI5vinAX8EHiNpFeBVwBts/8b2vbbPtX030/yO4oEnV/qxorzY9vcm7NsU2EvSbkP7HgT8EKC5mj8C2JJyAbIWcPlyxnH9hONvJOn3Q/tmUZL1uH439PVdI7YfMrT9Gy8+g+GvKVf2GwG32r5jwmNzJol7pDHO1y22Fw5t39nEtwGwBvCrEd92yt9RPPAk6cdMuh44wfbBEx+QtDpwKqU54xu2/9LcIQzacEZN//onSqIbePiI5wy/7nrgGttbLEvwy+CRkjSU+DehNAndCKwvae2hxL8J8Juh1078eRfbHuN8TeVm4M/A5sClEx6b9HcUD0xp3omZdCKwm6QXSpolaY2mw3FjYDVK2/UCYGFzFfuCodf+DvgrSesO7bsEeJGk9SU9HHjjNMf/KXB707m7ZhPDNpKevMJ+wsX9NXCYpAdJ2gv4W0rTyfXAucD7m3PweOAg4ItTfK/fAbObphmY/nxNyvZ9wLHAR5sO5VmSntq8kUz1O4oHoCT9mDFNstuDMhJlAeWq8l+BVZor3sOAk4DbgJdTrooHr/0FpfNzftNPsBFwAuVK9VpKe/ZXpzn+vcBuwHbANZQr3s9ROjtnwvmUTt+bgfcBe9q+pXlsX2A25ar/a8ARTfv5ZE5uPt8i6aLpztcY/oXSFHQBcCvwQcrvYdLf0VJ871iJKIuoRCw/Sa8EXm17x65jiZhK3s0jIiqSpB8RUZE070REVCRX+hERFendOP0NNtjAs2fP7jqMiIiVyoUXXniz7Q2ne17vkv7s2bOZN29e12FERKxUJP16nOeleScioiJJ+hERFUnSj4ioSJJ+RERFkvQjIiqSpB8RUZEk/YiIiiTpR0RUJEk/IqIivavIXV6zD/92a8e69gO7tnasiIgVIVf6EREVSdKPiKhIkn5EREWS9CMiKpKkHxFRkST9iIiKJOlHRFQkST8ioiJJ+hERFUnSj4ioSJJ+RERFkvQjIiqSpB8RUZEk/YiIiiTpR0RUJEk/IqIiSfoRERVJ0o+IqEiSfkRERZL0IyIqkqQfEVGRsZK+pJ0lXSXpakmHj3j8TZJ+JukySd+XtOnQY/dKuqT5mLsig4+IiKWz6nRPkDQL+BSwE3ADcIGkubZ/NvS0i4E5tu+U9FrgQ8DLmsfusr3dCo47IiKWwThX+tsDV9ueb/se4CvAHsNPsP1D23c2m+cBG6/YMCMiYkUYJ+k/Erh+aPuGZt9kDgK+M7S9hqR5ks6T9OJRL5B0SPOceQsWLBgjpIiIWBbTNu8AGrHPI58o7QfMAZ41tHsT2zdKejTwA0mX2/7VYt/MPgY4BmDOnDkjv3dERCy/ca70bwAeNbS9MXDjxCdJej7wdmB323cP9tu+sfk8HzgTeMJyxBsREcthnKR/AbCFpM0krQbsAyw2CkfSE4CjKQn/pqH960lavfl6A+DpwHAHcEREtGja5h3bCyUdCpwOzAKOtX2lpCOBebbnAh8GHgKcLAngOtu7A38LHC3pPsobzAcmjPqJiIgWjdOmj+3TgNMm7Hvn0NfPn+R15wKPW54AIyJixUlFbkRERZL0IyIqkqQfEVGRJP2IiIok6UdEVCRJPyKiIkn6EREVSdKPiKhIkn5EREWS9CMiKpKkHxFRkST9iIiKJOlHRFQkST8ioiJJ+hERFRlrPv1YerMP/3arx7v2A7u2eryIWDnlSj8ioiJJ+hERFUnSj4ioSJJ+RERFkvQjIiqSpB8RUZEk/YiIiiTpR0RUJEk/IqIiSfoRERVJ0o+IqMhYSV/SzpKuknS1pMNHPP4mST+TdJmk70vadOixAyT9svk4YEUGHxERS2fapC9pFvApYBdga2BfSVtPeNrFwBzbjwdOAT7UvHZ94AhgB2B74AhJ66248CMiYmmMc6W/PXC17fm27wG+Auwx/ATbP7R9Z7N5HrBx8/ULgTNs32r7NuAMYOcVE3pERCytcZL+I4Hrh7ZvaPZN5iDgO0vzWkmHSJonad6CBQvGCCkiIpbFOElfI/Z55BOl/YA5wIeX5rW2j7E9x/acDTfccIyQIiJiWYyT9G8AHjW0vTFw48QnSXo+8HZgd9t3L81rIyKiHeMk/QuALSRtJmk1YB9g7vATJD0BOJqS8G8aeuh04AWS1ms6cF/Q7IuIiA5Mu1yi7YWSDqUk61nAsbavlHQkMM/2XEpzzkOAkyUBXGd7d9u3SnoP5Y0D4Ejbt87ITxIREdMaa41c26cBp03Y986hr58/xWuPBY5d1gAjImLFSUVuRERFkvQjIiqSpB8RUZEk/YiIiiTpR0RUJEk/IqIiSfoRERVJ0o+IqMhYxVmxcpt9+LdbPd61H9i11eNFxPhypR8RUZEk/YiIiiTpR0RUJEk/IqIiSfoRERVJ0o+IqEiSfkRERZL0IyIqkqQfEVGRJP2IiIok6UdEVCRJPyKiIkn6EREVSdKPiKhIkn5EREWS9CMiKpKkHxFRkST9iIiKJOlHRFRkrKQvaWdJV0m6WtLhIx5/pqSLJC2UtOeEx+6VdEnzMXdFBR4REUtv2oXRJc0CPgXsBNwAXCBpru2fDT3tOuCVwL+M+BZ32d5uBcQaERHLadqkD2wPXG17PoCkrwB7APcnfdvXNo/dNwMxRkTECjJO884jgeuHtm9o9o1rDUnzJJ0n6cWjniDpkOY58xYsWLAU3zoiIpbGOElfI/Z5KY6xie05wMuBj0vafIlvZh9je47tORtuuOFSfOuIiFga4yT9G4BHDW1vDNw47gFs39h8ng+cCTxhKeKLiIgVaJykfwGwhaTNJK0G7AOMNQpH0nqSVm++3gB4OkN9ARER0a5pk77thcChwOnAz4GTbF8p6UhJuwNIerKkG4C9gKMlXdm8/G+BeZIuBX4IfGDCqJ+IiGjROKN3sH0acNqEfe8c+voCSrPPxNedCzxuOWOMiIgVJBW5EREVSdKPiKhIkn5EREWS9CMiKpKkHxFRkST9iIiKJOlHRFQkST8ioiJJ+hERFUnSj4ioSJJ+RERFkvQjIiqSpB8RUZEk/YiIiiTpR0RUJEk/IqIiSfoRERVJ0o+IqEiSfkRERZL0IyIqkqQfEVGRJP2IiIok6UdEVCRJPyKiIkn6EREVSdKPiKhIkn5EREXGSvqSdpZ0laSrJR0+4vFnSrpI0kJJe0547ABJv2w+DlhRgUdExNKbNulLmgV8CtgF2BrYV9LWE552HfBK4EsTXrs+cASwA7A9cISk9ZY/7IiIWBbjXOlvD1xte77te4CvAHsMP8H2tbYvA+6b8NoXAmfYvtX2bcAZwM4rIO6IiFgG4yT9RwLXD23f0Owbx1ivlXSIpHmS5i1YsGDMbx0REUtrnKSvEfs85vcf67W2j7E9x/acDTfccMxvHRERS2ucpH8D8Kih7Y2BG8f8/svz2oiIWMHGSfoXAFtI2kzSasA+wNwxv//pwAskrdd04L6g2RcRER2YNunbXggcSknWPwdOsn2lpCMl7Q4g6cmSbgD2Ao6WdGXz2luB91DeOC4Ajmz2RUREB1Yd50m2TwNOm7DvnUNfX0Bpuhn12mOBY5cjxoiIWEFSkRsRUZGxrvQjVoTZh3+71eNd+4FdWz1exMogV/oRERVJ0o+IqEiSfkRERZL0IyIqkqQfEVGRJP2IiIok6UdEVCRJPyKiIkn6EREVSdKPiKhIpmGIKmVKiKhVrvQjIiqSpB8RUZEk/YiIiqRNP6JjbfYvpG8hcqUfEVGRJP2IiIok6UdEVCRJPyKiIkn6EREVSdKPiKhIkn5EREWS9CMiKpKkHxFRkST9iIiKjJX0Je0s6SpJV0s6fMTjq0v6avP4+ZJmN/tnS7pL0iXNx1ErNvyIiFga0869I2kW8ClgJ+AG4AJJc23/bOhpBwG32f4bSfsAHwRe1jz2K9vbreC4IyJiGYxzpb89cLXt+bbvAb4C7DHhOXsAxzdfnwI8T5JWXJgREbEijJP0HwlcP7R9Q7Nv5HNsLwT+APxV89hmki6WdJakZ4w6gKRDJM2TNG/BggVL9QNERMT4xplaedQVu8d8zm+BTWzfIulJwNclPdb27Ys90T4GOAZgzpw5E793RLQgS0jWYZwr/RuARw1tbwzcONlzJK0KrAvcavtu27cA2L4Q+BWw5fIGHRERy2acpH8BsIWkzSStBuwDzJ3wnLnAAc3XewI/sG1JGzYdwUh6NLAFMH/FhB4REUtr2uYd2wslHQqcDswCjrV9paQjgXm25wKfB06QdDVwK+WNAeCZwJGSFgL3Aq+xfetM/CARETG9sZZLtH0acNqEfe8c+vrPwF4jXncqcOpyxhgREStIKnIjIiqSpB8RUZEk/YiIiiTpR0RUJEk/IqIiSfoRERVJ0o+IqEiSfkRERZL0IyIqkqQfEVGRJP2IiIok6UdEVCRJPyKiIkn6EREVGWtq5YiINrW5dGNtyzbmSj8ioiJJ+hERFUnSj4ioSJJ+RERFkvQjIiqSpB8RUZEk/YiIiiTpR0RUJEk/IqIiSfoRERVJ0o+IqEiSfkRERTLhWkTEJNqc+A3amfxtrCt9STtLukrS1ZIOH/H46pK+2jx+vqTZQ4+9tdl/laQXrrjQIyJiaU2b9CXNAj4F7AJsDewraesJTzsIuM323wAfAz7YvHZrYB/gscDOwKeb7xcRER0Y50p/e+Bq2/Nt3wN8BdhjwnP2AI5vvj4FeJ4kNfu/Yvtu29cAVzffLyIiOiDbUz9B2hPY2farm+39gR1sHzr0nCua59zQbP8K2AF4F3Ce7ROb/Z8HvmP7lAnHOAQ4pNl8DHDV8v9oS20D4OYOjjtRX+KA/sTSlzigP7H0JQ5ILKN0Ecemtjec7knjdORqxL6J7xSTPWec12L7GOCYMWKZMZLm2Z7TZQx9igP6E0tf4oD+xNKXOCCx9DmOUcZp3rkBeNTQ9sbAjZM9R9KqwLrArWO+NiIiWjJO0r8A2ELSZpJWo3TMzp3wnLnAAc3XewI/cGk3mgvs04zu2QzYAvjpigk9IiKW1rTNO7YXSjoUOB2YBRxr+0pJRwLzbM8FPg+cIOlqyhX+Ps1rr5R0EvAzYCHwetv3ztDPsrw6bV4a0pc4oD+x9CUO6E8sfYkDEssofYljCdN25EZExANHpmGIiKhIkn5EREWS9CMiKlJ90pe0pqTHdB1HRDxwSFpP0uO7jmOUqpO+pN2AS4D/bba3kzRxOGpbsewo6cDm6w2bIa5tHv+k5vPlki4b+rhc0mVtxjIUU6fnpE8kbdV8fuKojw7i2VzS6s3Xz5Z0mKSHth3HUDyzJG0kaZPBRwcxnClpHUnrA5cCx0n6aNtxTKfq0TuSLgSeC5xp+wnNvstst/oOLekIYA7wGNtbStoIONn201uM4RG2fytp01GP2/51W7E08XR+ToZieQllEsG/plSZC7DtdVqM4bO2D5b0wxEP2/Zz24qliecSyu9nNmU491zK7+pFbcbRxPJPwBHA74D7mt3u4P/4YttPkPRq4FG2j+gin0yn9vn0F9r+Q5kbrlN/DzwBuAjA9o2S1m4zANu/bT7/ukn8W9j+nqQ16ebvpPNzMuRDwG62f97R8bF9cPP5OV3FMMF9TQ3P3wMft/0JSRd3FMsbKG84t3R0/IFVJT0C2Bt4e8exTKr2pH+FpJcDsyRtARwGnNtBHPfYtiQDSHpwBzHQHPtgyuR36wObU6bOOAp4Xsuh9OacAL/rMuHD/Xcbk7L9P23F0viLpH0plfi7Nfse1HIMA9cDf+jo2MOOpNz1nGP7AkmPBn7ZcUxLqD3p/xPlHflu4MuUX9h7OojjJElHAw9tku6rgM91EAfA6ynTX58PYPuXkv66gzj6dE7mSfoq8HXK3wrQeqLdbYrHDLSd9A8EXgO8z/Y1TX/LiS3HMDAfOFPSt1n899Nqe7rtk4GTh7bnAy9tM4ZxVN2mPyBpHUob4B0dxrAT8AJKe/Hpts/oKI7zbe8w1D65KnBRF+2SPTonx43Ybduvaj2YHpK0HqUNu6sO/yNG7bf97paO/39sf0jSJxg9i/BhbcQxrqqv9CU9GTgWWLvZ/gPwKtsXthzHO4AvDCc1SYc0U0637SxJbwPWbJLu64Bvth1En86J7QPbPuZkJK1L6bR8ZrPrLOBI2602b0g6E9idkkMuARZIOsv2m9qMAxYl96bPx7b/2HIIg6a/eS0fd5lUfaXfDEV8ve2zm+0dgU930Ot/E2XBhdfb/mGz7yLbXQzFW4Wy/OX9V9jA59zyH0ofzkkfr+AknQpcwaKV6vYHtrU9ZZv/DMTRm5EqkrYBTqD0Q0H5u3mF7SvbjmUoplWAh9i+vasYJlP1lT5wxyDhA9g+R1IXTTy/oSwtebKkU2x/mNEL0Mw42/cBn20+utSHc9LHK7jNbQ+3E7+7GT7Ztj6NVDkGeNPQxcGzKX+/T2szCElfovRz3AtcCKwr6aPN325v1J70f9p0Fn6ZciX3MkqH0BMBbF/UViC2r5P0LOAzkk4G1mzr2FCKshhxNTvQxRVc1+fE9qBZ686mk+5+kvZqM5Yhd0na0fY5TRxPB+7qII7BSJUf92CkyoMHCR/A9pkdjfba2vbtkv4BOA14CyX59yrp1968M6rQZaC1gpdB4c3Q9uuBN9t+dBvHb445sihroIPirM7PydCxl2hW6rD5bTtK0866za7bgFfavrTtWPpC0tco9RwnNLv2A+bYfnHLcVwJbAd8Cfik7bMkXWp72zbjmE7VST+W1Ay9+63tPzfbawIPs31tp4F1QNIuwIsoTRhfHXpoHcpV3fadBMb9I87oqs1Y0pbAZyh/G9uozDOzu+33dhDLesC7gR0pTYA/At5l+7aW4ziMcnV/KbArsAlwou1ntBnHdKpP+pJ2BR4LrDHYZ/vIlo59ku29J2ta6ahTbB7wNNv3NNurUW7hn9zS8XtzTiRtS7lyOxJ459BDdwA/bDupNDE9DPh3YCPbu0jaGniq7c+3HMdZwL8CR3vRFCZX2N6mzTj6TtKqthd2Hcewqtv0JR0FrAU8h1L4syftruH7hubz37V4zOmsOkj4ALbvaRJ/W3pzTpomk0slfcn2X7qOp/EF4DgWdZ7+X8pdSKtJH1jL9k8nTGHSanKT9HHbb5T0TUZfIOzecjwjh9PSj2rh+1Wd9ClXtI9vhpq9W9JHaLGy0c18N5QhZnfZvq+5bd4K+E5bcUywQNLuLmsfI2mPJr5W9PSczJb0fmBrFr8jbL1/AdjA9kmS3trEsFBSF+tO3yxpc5pkK2lP4LdTv2SFG7Th/0fLx53MsZThtHs32/tT3qBbHU47ndqT/mDUw50qszjeAnQxfe+PgGc0bZPfpwwRfBnwDx3E8hrgi5I+SWkfvR54RQdx9OmcHEe5gvsY5a7wQDoaUgv8SdJfsSjZPoVuriRfTxkquZWk3wDXUDpQWzMoorR91mBfx9XBfRlOO6Xak/63VOYA/zCl9990M7+LbN8p6SDgE01BUCczFtr+FfAUSQ9p4upqaorenBNgTdvfl6RmFNO7JJ1NeSNo25so0xhvLunHwIaUZslWucwr8/xmaOQqHU9hcib9qA7uy3DaKVWd9G0PJlc7VdK3gDXaLmdvSNJTKVexBzX7OvndSHrnhG2gvc7txQ/dj3MC/LmpsPylpEMphWNdTEKH7Yua2oXHUO42ruqiv0FlAZWXUubTX7XDvxOAdZvx8a8GjhtUB3cQx2uA/27a9qEMpz2ggzimVHXSB5D0NJo/3GYb2//dchhvAN4KfM32lU2hy1Q1BDPpT0Nfr0HpUO1iWuE+nZM3Ujr8D6PMwvpcWv5n1uRTK2/Z/M22PcvmNyjNShcyNLNlR/pSHXy77W2Hh9Oqh6u9VT1kU9IJlDnjL6GUTkMpyurVrHiSPmH7nzo69urAXNsv7OL4k+nynHRBo2f6HLBbnvGzT8Mzm+rod1CGFr+2uUD48IT29TbiGFXEd6HtJ7UZx3Rqv9KfQymy6fs7X+tLBA5ZC+hilMp02lxKcg7lCnJThv5n2qwZcI9m+mycK+lxti/vOhB3PI+9yvrFj6XMtTN8R7YOQ6O9+qL2pH8F8HDaH2rWWxOKomZROgq7aKftky9SCpEuZ9EarJ2Q9O/Ah2z/vtlejzI9xb+1HMqOwCslXUNp3hmsG9xFQWHX1cGPoTSDPpTFF7u5Azh45Cs6VGXzzlAxx9qUisufsviKO60WdUynzXleJszBs5CyVGCvKgqh9XNyju0d2zjWdNRMaTxhX+vzAE02V1PbczQ1sfSiOljSU23/pM1jLotar/T7UswxrtbGhLssjD4LeBjl72OjpqPwurZiGFOb4+SPkPQ5Sr1AV8slDsyStLrtu+H+uZFW7yCO50+c+kHSB4DDO4il0+pgNesuAC9XWTd4MX3rI6wy6Q+KOZoxxn2p+pzKf7Z1IEn/RBl//jsWNWUYaP22fRqtnRNKMdZWlIW/h89JF0n/ROD7TceuKWsHHz/1S2bEnpL+bPuLAJI+TTdvPtB9dfDwugu9bzqpsnlnQNKFwDOA9YDzKL+0O223UvU52ZwhA100M0m6GtjB9i1tH7s5fh/PyeW2H9f2cSejMvvn8yh3O9+1fXoHMaxJKRI7FtgFuNX2G9uOo4nl0ZTq4KdRxsZfA+zX9sywKsuvvo2hIeB01M8xldqT/kW2n9hc3a7ZVH1eYnu7lo7/rKkeHy4vb4vKGgM7ddWO39Nz8lngY7Z/1vax+0bS+kObawNfB35MMwup7Vu7iAvuv3PvrDpY0lWM6PDvop9jKrUn/YspC39/DDioKQLq1VVd2yR9njIa4dss3n790c6C6pikn1PqOfowUuUOFt0JrUZpcvqT7XVaOv41zfE19HnAXUxCN7E6eCiYVked9anDfypVtukP6bTqU5MvUdhZUgGuaz5Waz5a1dNzsnMHxxzJ9trD25JeDLS2mIvt3lWY0p/q4D51+E+q6iv96cx01edkw94G+nZbCPWeE5UFVQYrIJ3tHi1PKOk8209p+ZivB744oV5gX9ufbjOO5ti9qA6WdCKlw/9Khjr8266Wnk7tV/rTmdGqz+EE1iS7LWx/r+kk6+vvprpzIukNlCKbwRXbiZKOsf2JDmIZrvhchVJV3sWV28G2PzXYsH2bpIOB1pM+/akO3nZlaBrua2KpSvPPcgiwPqXteGPgKMoIjSr17JwcRBnR9Kcmtg8CPwFaT/osXvG5ELgW2KODOFaRpMEUJk1tR6vNgUNNgasCB0qaT7d9LudJ2rrvHf5J+v3wekq77PkAtn8pqZOpe3ukT+dELJqQj+brThZR6dEcPKcDJ6ksOWrKtML/23IMnS+pOcGOwAF9mJpiKkn6U2vrH/tul7Voy0GlVelvkUeN5+Q44HxJX2u2X0z7a9ICIGlDSlPTbBYfqdJ2u/FbgH8EXktTL0D7CxB1tnDLJHrT4T+VJP2ptVX1eZaktwFrStqJMoz0my0deyRJDx40Z0xQ3Tmx/VGV1Zl2pCS4A213tYrXN4Czge+x+N1Hq2zfR5nk7DNdxUAZrTMYNroJpTBLlInPrqPlpU/7OPBilCpH7/St6lNlVaaDgBdQ/mhPBz7XxZTPKovKfA54iO1NmlEr/2j7dS3H0Ytz0sRxWR9GhwC0WTw4yfFPsr33ZENrO6pdOIqy5sNpzfYulLmB3tx2LCuDWpN+r6o+m0rCP9u+t9meBaxu+84242iOfT5lzdW5Hc9Y2Kdz8kXgrX2YdE7Se4FzBwmug+M/wvZvezbL5hILlUiaZ3tO27GsDKps3umilH8a3weeD/yx2V6T0kb6tC6CsX39hBkLu2hG6NM5eQRwpaSfMrScZBfzAFEKCt8m6W7gLyzqLGylItf2b5vPfWrKuFnSv1EmozOwH9DJ3FErgyqTfg+rPtewPUhu2P6jpLVajmHg+qaJx5JWo6wL28UauX06J+/u6LhLmFiRO5Gkx9q+cqbjaOoFPkhZIF60/OYzwb6UmWEHHe0/avbFCFUmffo31OuBsC9eAAASwklEQVRPkp5o+yIASU8C7uooltdQOmsfCdxAubp+fQdx9Oac9PDOcConAG0sqPIhYDfbXVwQLKaZ5O0NXcexsqgy6few6vONwMmSbmy2HwG8rO0gmnbz/d3S1NLT6MU5gd5d1U6nrSG1v+tDwof7h7H+H8o6tfevSWv7uZ0F1WNVduQODFd92t5c0hbAUbZbr/qU9CDK7JYCfmH7L0OP7WT7jJbiONP2s9s41nR6dE6upidXtdPRDC+dODQNxLMo60t/nY4nF5P0XeCrwL9Q7lQPABbYfkvbsawMak/6l9BUfQ6NVOnd1Moz/Y884VjvA9al/BMNd1pe1Mbxx9XyOfmx7Rmdc2hFaSHpHzfFw51MLjYYvSPpskF/nKSzbE85Sq9WVTbvDOlT1edU2iz5H4yOGZ6L3EDfbpVn/JwMXdXOk/RVenBVO4Z7ZvKbD6aBkPR02z8efkxSV2+MgzvA30raFbiRMldTjFB70u9N1ec0Wnsjsv2cto61nNo4J8OTm91JKRQbPn5rSV/SlFfvgzuxFqdY/gRLdhiP2teG90paF3hzE8M6wD93EMdKofbmnV5UfU6nzaaM5ni7smSnWKurEE2n7XPSNZVlLCfjtjotJT2Vcjf4RsqKcwPrAH9ve9s24lgakt5q+/1dx9EXtV/prwkca/uzcP/olTUpV3UzTtJetk+WtJnta6Z46rVtxNPEdBSwFvAcynQMewI/bev4S+Hatg4k6XjgDV58wZCPtNl+3aM7sNWAh1Byx3DNwO2Uv5U+2gtI0m/UfqV/HmWOjj822w8Bvmu7lapPLVqYvTdXrYPOsKHPDwH+x/YLpn3xijn+S6Z6vKPRIRcPOvqn2tdiPNsAW7P4ndh/txzDplNV5WqGV1hbGl3+rvqo9iv9rqs+b2lu2zeTNHfigx2V+Q8KoO6UtBGlnL3N2Qp3m+KxVtvRh6wiaT3btwFIWp/uVvE6Ang2JemfBuwCnAO0mvTHmIahT6Od6r2yHaH2pN911eeulI6vE4CPtHjcqXxL0kMpFZcXNvtamyfd/VkkZNhHKEvynUJJIHsD7+solj2BbYGLbR8o6WG0P4/9yqaTBW/6qvak32nVp+17KEusPc32Aklrl92L7j468B+UhTGeQVkS8Gw6mjO9Lx3Ktv9b0jzKsFUBL/HQknjDdwEtuMv2fZIWSloHuAl4dEvHXlmd3HUAfVJ10rd9gaSt6L7q82FNVeH65bBaABxg+4oWjj3R8ZQVif6r2d6X0nSwd5tB9K1DuUnyk619+n3aG6o4r7kT+yzlTuyP9LOjvY06ik8w9boYhzWf/32mY1mZVN2RO522OlglnQu83fYPm+1nA//eVofyhFgunTjsbtS+FuLotEN5aXTVUShpNrCO7cvaPvZQDOtQ7k7vmLD/lba/MMPHPmCqx20fP5PHX1lVfaU/hrbaAh88SPgAts9UWUSkCxdLeort8wAk7QD8eJrXzISuO5SXRtureT2eoTVyJf1N26OaJM2hrB28dtnU74FX2b4QYKYTfnOMJPVlkKQ/tbb+medLegelQxfKIhBTjdtf4bRojYEHAa+QdF2zvSmTN2vMpEGH8oeBi5pYqu+wlHQs8HjgSuC+ZncXo5qOBV5n++wmrh0pbwJdLJe4IWWh9onDWPs2dUgvJOn3w6soC3UM/nF/BLQ9iqVXawzYfk/z5amSvkUZXvuHLmOaQpujQ55ie+sWjzeZOwYJH8D2OZLumOoFM+iLlAkCd2Vols2OYum9Ktv0x62ElfQ/tqcsFmpDnwpdZpqk59r+wWRFWm02YzTj8SflsngHktYffN1CTJ+nVAN3cfc1HMfHKB3tX6bcabwMuA04FdqdlTWzbC6dWq/030oZxnUqU4y66EPCb/Sp0GWmPQv4AaOLtNpuxriwOaaATShJTcBDgeto+hjaSviN44GfSPp/lBk/u1ric7vm8xET9j+N9mdlzSybS6HWK/0zKG9421HGoS+mo0rYSfVpmoYaNcNH59o+rdnehTJ9x5s7iOVq4E3A5Sxq0+/bQuWtkvR3lP/jR7Fols13216iyj3qTfqrsagS9tUTH3fP1kStKelLetNUj9v+aFuxDAyaDybsm2d7Tgex/KAPHZRNJ/srGBpFBIvGxkd/Vdm809NK2KnUVEa+9vRPad3Nkv4NOJHSdLEfZQhpF34h6UuUdR+6XNDlNOA8JtxxdKEZvXMwS74Btb6K18qgyqQ/pBeVsJK2meaY/9laMB2z/e6uYxhhX0rb9dea7R81+7qwJiXZd7agS2MN21PelbXoG5Tmne8B93YcS+9V2bwz0JdKWEnnUOYp/wLwpcG87TWTtCVlzp+H2d6mKUja3fZ7Ow6tM816D4fZ/ti0T575WP6ZMgXEt1j8jqPNTu1BLJfY3m76ZwbAKl0H0LElKmGB1ithbe8I/AOlI2qepC+pLN9Ys89SRln9BaCZamCfLgKRtKWkYyR9V9IPBh9tx2H7XqAvgwzuoRTO/YQyyulCYF5HsXxL0os6OvZKp/Yr/a9Rqj2HK2Hn2H5xR/HMAl5Mmezsdkpb/tu6WDika5IusP3k4Xlturqik3QpcBQlsd3ffDCYcqDlWN4HrEspRvrTUCytjYtv4vgVsIPtm9s87iSx3EG5WLubcpEwGMa6TqeB9VTtbfp9qIQdzKVyIKWi8AxgN9sXNXPO/IRuFg7p2s2SNqeZCkPSnsBvO4ploe1OppceYdD0ODzFdNvj4qFMA9HKsqLTsd3Hzv/eqvpKfzptVcJK+hGlOeMU23dNeGx/2yeMfuUDl6RHA8dQktxtlLmI9rN9bQexvIsyb/3X6Lj9ui+au+THAj9k8XPS2pBNSVvZ/oWkkcOZ2777WVkk6U+hxamV32j74xP2vcF2NaN2JtPMNrrKxKl7W45h1FQdtt364iWS1qWMJHpms+ss4Mi25yWabFrjNme+lHSM7UNUlhwdEUr39Qx9lKQ/hRaT/hLH6WqO9r6QtDrwUpYce936yll9IulU4ArKdAwA+wPb9mjKkOi52tv0OyVpX+DlLLkw+tp0V/zTF98A/kDpPL17mufOOEnbsOTUva0uRt7Y3PZLh7bfLemStoNo7n6WuGLs6O5n1BveH4DLbd/Udjx9l6Q/tZmuhD2X0jm5AYsvjH4H0NlqSD2xse2duw4CQNIRwLMpSf80YBfgHMoykm27S9KOts9pYns6ixacadPwFBRrAHtRihy7cBDwVEr/ApTf1XnAlpKOrLFPbCpVJ/2uK2GbSbJ+TfmDjcWdK+lxti/vOhDK+rzbAhfbPlDSw+huQZfXAsc3bftQOrmnXDZwJtieeCf68abI8J1tx0KZBuJvbf8OoPn9fAbYgTIiL0l/SNVJHziqmXztC4yohJ3pJd8knWN7x2ac8fCtcrXjjIdW8FoVOFDSfLqdQhjgLtv3SVqosibsTUDrzRiNnwMfAjanTPH8B0ptR6t3hhNGzKxCufLvaujk7EHCb9wEbGn7Vkl/mexFtao66TcJdwvKeP15kn4KHGf7jLaO33zOOONFerWCV2NeM6vkZyl9DH8EftpRLN8Afk8pKvxNRzHA4s2RC4Frgb27CYWzm9XVTm62Xwr8qBn5Vf2UJhNl9A79qISVtB5lGobhkSrVjjOWdILt/afb1zZJs4F1mmkhujj+Fba36eLYfSVJwEuAHSn/u+cApzrJbaSqr/T7Ugkr6T3AK4H5LL7Ydc3jjB87vNG8MT9pkufOiMmKfgaPdfSm3GlfR9/WO2j+Lk63/XyapRpjalUnfeCTlFv2tw1Xwtq+sZk/vS17U4bi3dPiMXtJ0luBtwFrSrp9sJsywdcxLYcz3ISxRJ8L3bwp7wi8shky2UVfx1RNka1fWdu+V9KdktZtu0BtZVV1805fKmGbgpvXZkzxIpLeb/utXccBIGlN4HWUhGvK3O2fsf3nDmLZdNR+t7xcoqTjgTcMBj80zZMf6WLhEkknAU+h3K0PT0KXVbxGqD3p96ISVtIcSgfdFSw+j0lfptFtTR/nU2mSyu3AF5td+wIPtd1Vx2XnRv2fdFVF3ocpIVYmVTbv9LAS9njgg/Rg6bkeeBNwCIs3rQx01aTyGNvbDm3/sJluuWarSFrP9m0Aktano3yS5L50qkz69K8S9mbb/9XBcXvH9iHN5+d0HcuQiyU9xfZ5AJJ2AH7ccUxd+wilU/kUypvx3sD7ugikGXb9fpacJqOrWopeq7p5py8kfZTSrDOXxZt3ah6yuQZLtqMf1WY7+lCh2IOAxwDXNdubAj+rfeikpK0pd14Cvm/7Zx3FcQ5l5tGPAbtRRuTJ9hFdxNN3VSb9vlXCZmrYJTXt6HcAJza79gXWs71XizGM7DQdaLvzNEaTdKHtJ0m63Pbjmn1n235G17H1UZXNO32qhJW0CmUkyEldx9IznbejJ6mvNP7c/B/9UtKhlErlv+44pt6qfWF0JK0n6fGSnjj4aPP4tu8DDm3zmCuJiyU9ZbCRdvSYwhuBtYDDKAV8+wGv6DSiHquyeWdgskrYtptVJL2DMj3uxMWua16O7+csakcH2IQy2dh9dDfxWvRQM+T57ZS+lgc1u/M3Monak/5VwOO6roTt03J8fZH29BhX83/8r0wY8py/kdGqbNMfcgVletpOK2Ftb9bl8fvI9q8l7QhsYfs4SRsAa9se9QYZdVtge+70TwvIlX4vKmElPYiyOMZgseszgaNtVzsXeLNa1RxKh+6WzSR4J9t+esehRc9Ieh5ldNf3Wfz/uLVZclcmtV/p96US9jOUtshPN9v7N/te3VlE3ft74AmUeeMHk+B1PtoqeulAYCvK/9DwLLVJ+iPUnvT7Ugn75AnDE3+QMn/usW1JBmgWxIgYZdvB+PyYXu1DNi+U9H5JT+1qyGbjXkmbDzYkPRq4t4M4+uQkSUcDD5V0MPA9yjTYEROd11QHxxhqb9PvRSVs0yZ5HGXoqChDzw60PSq+akjaCXgB5Zyc3tYylrFyaYb3bg50tcbASqXapN9U8O3ZZSWspL1snyxpM+BGyrh0Ab+wfffUr66bpJ/YfmrXcUT3+rLGwMqi2qQPIOlHtp85/TNn7PgX2X7iqHn9Y2pdzd0esbKrvSP3DEn/QneVsLc0TUwT5/UfxFHdIipLod6rlYjlUPuVfqeVsJJWA54InMCI4Zm2z2ojjpVR7o4ilk3VSb8vJG1oe0HXcaxM0rwTsWyqTvpdV8JK+rjtN0r6JiOaK2pv3mk66Law/b1mcfJVbd/RPLaN7Su6jTBi5VN70v8cpYpvsMbm/sC9tluphJX0JNsXSnrWqMdrbt5pxuYfAqxve/NmSbyjbD+v49AiVmq1J/1LJ1TCjtwX7ZN0CbA9cP6gGWd4ZaSIWDa1V+T2ohJW0tMlnSHp/0qaL+kaSfPbjqNn7h6e8lrSqmTETsRyq33I5r9SluFbrBK2gzg+D/wzcCGZfmHgLElvA9ZsKnNfB3yz45giVnpVNu/0rRJW0vm2d2j7uH3WVEwfxNA0DMDnXOMfbMQKVGvS71UlrKQPALMoU8EOzwd+UWdBRcQDUq1J/wxK09Z2wNkTH+9gEZXBxGqDX8ZgwqhWJ37rA0mXM0XbfSbRilg+tbbp78qiStiPdBwLlPqAiep7Ny7+rusAIh7Iqkz6zaiQ8yQ9rSeVsH8c+noNSuL7eUexdCozI0bMrFqbd3pdCStpdWCu7Rd2GUeXJN3Bkr+bPwDzgDfbrn1Ia8QyqfJKn9KsA/AfnUYxubWAViZ967GPUkZWfYnSx7EP8HDgKuBY4NmdRRaxEqvySr9vJnRezgI2BI60/cnuourWqGGsks6z/ZRUTUcsu1qv9IFSCQu8i1KUtSqLRs20fZU93Hm5EPid7YUtx9A390naGzil2d5z6LFcqUQso6qv9CX9ghGVsLZv6SyoAO6fEuM/gadSkvx5lN/Vb4An2T6nw/AiVlq1J/1UwkZEVWpP+qmE7SlJGwIHA7MZaoa0/aquYop4IKi6TR8YXOU/qfksSlNCdZWwPfQNSrX098gkdBErTO1J/8wR++q99emXtWy/pesgIh5oap9P/49DHwuBnSnNCdG9b0l6UddBRDzQVN2mP1EqYfujqch9MKWv5S8sGk67TqeBRazkam/emSiVsD1he+2uY4h4IKo66U9WCdtdRCFpK9u/kDRynYOMrIpYPlU370jadGgzlbA9IOkY24cMrTEAQ53rNa4xELEiVZ30o7+aKRj+1/btkt5BWf/gPbnSj1g+tY/eif76tybh7wjsBHwB+Ey3IUWs/JL0o68GBVm7AkfZ/gawWofxRDwgJOlHX/1G0tHA3sBpzXDa/L1GLKe06UcvSVqLUix3ue1fSnoE8Djb3+04tIiVWpJ+RERFcrscEVGRJP2IiIok6UdEVCRJPyKiIv8fox37IhVOzB4AAAAASUVORK5CYII=\n",
>>>>>>> ca0a55842c50d2d7a722837bdff285729eefcd5e
      "text/plain": [
       "<Figure size 432x288 with 1 Axes>"
      ]
     },
     "metadata": {
      "needs_background": "light"
     },
     "output_type": "display_data"
    }
   ],
   "source": [
    "# creating list of column names\n",
    "feat_names=list(X_train)\n",
    "\n",
    "# Sort feature importances in descending order\n",
    "indices = np.argsort(importances)[::-1]\n",
    "\n",
    "# Rearrange feature names so they match the sorted feature importances\n",
    "names = [feat_names[i] for i in indices]\n",
    "\n",
    "# Create plot\n",
    "plt.figure()\n",
    "\n",
    "# Create plot title\n",
    "plt.title(\"Feature Importance\")\n",
    "\n",
    "# Add bars\n",
    "plt.bar(range(X_train.shape[1]), importances[indices])\n",
    "\n",
    "# Add feature names as x-axis labels\n",
    "plt.xticks(range(X_train.shape[1]), names, rotation=90)\n",
    "\n",
    "# Show plot\n",
    "plt.show()"
   ]
  },
  {
   "cell_type": "code",
<<<<<<< HEAD
   "execution_count": 51,
=======
   "execution_count": 13,
>>>>>>> ca0a55842c50d2d7a722837bdff285729eefcd5e
   "metadata": {},
   "outputs": [],
   "source": [
    "# Predictions for the test data\n",
    "y_pred = rnd_clf.predict(X_test)"
   ]
  },
  {
   "cell_type": "code",
<<<<<<< HEAD
   "execution_count": 52,
=======
   "execution_count": 14,
>>>>>>> ca0a55842c50d2d7a722837bdff285729eefcd5e
   "metadata": {},
   "outputs": [
    {
     "data": {
      "text/plain": [
<<<<<<< HEAD
       "array([[9.98654837e-01, 1.34516347e-03],\n",
       "       [2.60897627e-01, 7.39102373e-01],\n",
       "       [9.99001819e-01, 9.98181348e-04],\n",
       "       [5.06693053e-02, 9.49330695e-01],\n",
       "       [9.98489548e-01, 1.51045158e-03]])"
      ]
     },
     "execution_count": 52,
=======
       "array([[0.99889124, 0.00110876],\n",
       "       [0.33310077, 0.66689923],\n",
       "       [0.9989498 , 0.0010502 ],\n",
       "       [0.07892513, 0.92107487],\n",
       "       [0.9987007 , 0.0012993 ]])"
      ]
     },
     "execution_count": 14,
>>>>>>> ca0a55842c50d2d7a722837bdff285729eefcd5e
     "metadata": {},
     "output_type": "execute_result"
    }
   ],
   "source": [
    "# Class Probailities\n",
    "yprob = rnd_clf.predict_proba(X_test)\n",
    "yprob\n",
    "yprob[:5]"
   ]
  },
  {
   "cell_type": "code",
<<<<<<< HEAD
   "execution_count": 53,
=======
   "execution_count": 15,
>>>>>>> ca0a55842c50d2d7a722837bdff285729eefcd5e
   "metadata": {},
   "outputs": [
    {
     "name": "stdout",
     "output_type": "stream",
     "text": [
      "Accuracy: 0.9590643274853801\n"
     ]
    }
   ],
   "source": [
    "# Model Accuracy, how often is the classifier correct?\n",
    "print(\"Accuracy:\",metrics.accuracy_score(y_test, y_pred))"
   ]
  },
  {
   "cell_type": "code",
   "execution_count": 54,
   "metadata": {},
   "outputs": [
    {
     "data": {
      "text/plain": [
       "array([[97,  4],\n",
       "       [ 3, 67]])"
      ]
     },
     "execution_count": 54,
     "metadata": {},
     "output_type": "execute_result"
    }
   ],
   "source": [
    "from sklearn.metrics import confusion_matrix\n",
    "cm=confusion_matrix(y_test, y_pred)\n",
    "cm"
   ]
  },
  {
   "cell_type": "code",
   "execution_count": 55,
   "metadata": {},
   "outputs": [
    {
     "ename": "NameError",
     "evalue": "name 'sns' is not defined",
     "output_type": "error",
     "traceback": [
      "\u001b[0;31m---------------------------------------------------------------------------\u001b[0m",
      "\u001b[0;31mNameError\u001b[0m                                 Traceback (most recent call last)",
      "\u001b[0;32m<ipython-input-55-65c5206ab61e>\u001b[0m in \u001b[0;36m<module>\u001b[0;34m()\u001b[0m\n\u001b[1;32m      2\u001b[0m \u001b[0mcm_df\u001b[0m \u001b[0;34m=\u001b[0m \u001b[0mpd\u001b[0m\u001b[0;34m.\u001b[0m\u001b[0mDataFrame\u001b[0m\u001b[0;34m(\u001b[0m\u001b[0mcm\u001b[0m\u001b[0;34m)\u001b[0m\u001b[0;34m\u001b[0m\u001b[0m\n\u001b[1;32m      3\u001b[0m \u001b[0mplt\u001b[0m\u001b[0;34m.\u001b[0m\u001b[0mfigure\u001b[0m\u001b[0;34m(\u001b[0m\u001b[0mfigsize\u001b[0m\u001b[0;34m=\u001b[0m\u001b[0;34m(\u001b[0m\u001b[0;36m5.5\u001b[0m\u001b[0;34m,\u001b[0m\u001b[0;36m4\u001b[0m\u001b[0;34m)\u001b[0m\u001b[0;34m)\u001b[0m\u001b[0;34m\u001b[0m\u001b[0m\n\u001b[0;32m----> 4\u001b[0;31m \u001b[0msns\u001b[0m\u001b[0;34m.\u001b[0m\u001b[0mheatmap\u001b[0m\u001b[0;34m(\u001b[0m\u001b[0mcm_df\u001b[0m\u001b[0;34m,\u001b[0m \u001b[0mannot\u001b[0m\u001b[0;34m=\u001b[0m\u001b[0;32mTrue\u001b[0m\u001b[0;34m)\u001b[0m\u001b[0;34m\u001b[0m\u001b[0m\n\u001b[0m\u001b[1;32m      5\u001b[0m \u001b[0mplt\u001b[0m\u001b[0;34m.\u001b[0m\u001b[0mtitle\u001b[0m\u001b[0;34m(\u001b[0m\u001b[0;34m'Decision Tree Classifier'\u001b[0m\u001b[0;34m)\u001b[0m\u001b[0;34m\u001b[0m\u001b[0m\n\u001b[1;32m      6\u001b[0m \u001b[0mplt\u001b[0m\u001b[0;34m.\u001b[0m\u001b[0mylabel\u001b[0m\u001b[0;34m(\u001b[0m\u001b[0;34m'True label'\u001b[0m\u001b[0;34m)\u001b[0m\u001b[0;34m\u001b[0m\u001b[0m\n",
      "\u001b[0;31mNameError\u001b[0m: name 'sns' is not defined"
     ]
    },
    {
     "data": {
      "text/plain": [
       "<Figure size 396x288 with 0 Axes>"
      ]
     },
     "metadata": {},
     "output_type": "display_data"
    }
   ],
   "source": [
    "# Transform to df for easier plotting\n",
    "import seaborn as sns; sns.set()\n",
    "\n",
    "cm_df = pd.DataFrame(cm)\n",
    "plt.figure(figsize=(5.5,4))\n",
    "sns.heatmap(cm_df, annot=True)\n",
    "plt.title('Decision Tree Classifier')\n",
    "plt.ylabel('True label')\n",
    "plt.xlabel('Predicted label')\n",
    "plt.show()"
   ]
  },
  {
   "cell_type": "code",
   "execution_count": 56,
   "metadata": {},
   "outputs": [
    {
     "data": {
      "text/plain": [
       "0.9503546099290779"
      ]
     },
     "execution_count": 56,
     "metadata": {},
     "output_type": "execute_result"
    }
   ],
   "source": [
    "from sklearn.metrics import f1_score\n",
    "f1_score(y_test, y_pred)"
   ]
  },
  {
   "cell_type": "markdown",
   "metadata": {},
   "source": [
    "# Grid Search"
   ]
  },
  {
   "cell_type": "markdown",
   "metadata": {},
   "source": [
    "RandomForestClassifier(bootstrap=True, class_weight='balanced',\n",
    "            criterion='gini', max_depth=None, max_features='auto',\n",
    "            max_leaf_nodes=16, min_impurity_decrease=0.0,\n",
    "            min_impurity_split=None, min_samples_leaf=1,\n",
    "            min_samples_split=2, min_weight_fraction_leaf=0.0,\n",
    "            n_estimators=500, n_jobs=-1, oob_score=False,\n",
    "            random_state=None, verbose=0, warm_start=False)"
   ]
  },
  {
   "cell_type": "code",
   "execution_count": 57,
   "metadata": {},
   "outputs": [
    {
     "data": {
      "text/plain": [
       "GridSearchCV(cv=5, error_score='raise-deprecating',\n",
       "             estimator=RandomForestClassifier(bootstrap=True, class_weight=None,\n",
       "                                              criterion='gini', max_depth=None,\n",
       "                                              max_features='auto',\n",
       "                                              max_leaf_nodes=None,\n",
       "                                              min_impurity_decrease=0.0,\n",
       "                                              min_impurity_split=None,\n",
       "                                              min_samples_leaf=1,\n",
       "                                              min_samples_split=2,\n",
       "                                              min_weight_fraction_leaf=0.0,\n",
       "                                              n_estimators='warn', n_jobs=None,\n",
       "                                              oob_score=False,\n",
       "                                              random_state=None, verbose=0,\n",
       "                                              warm_start=False),\n",
       "             iid='warn', n_jobs=None,\n",
       "             param_grid=[{'class_weight': ['balanced'],\n",
       "                          'max_features': [2, 4, 6, 8],\n",
       "                          'max_leaf_nodes': [5, 10, 15, 20],\n",
       "                          'n_estimators': [4, 6, 7, 10]}],\n",
       "             pre_dispatch='2*n_jobs', refit=True, return_train_score=True,\n",
       "             scoring='f1', verbose=0)"
      ]
     },
     "execution_count": 57,
     "metadata": {},
     "output_type": "execute_result"
    }
   ],
   "source": [
    "# parameters we are interested in exploring\n",
    "param_grid = [{'n_estimators': [4,6,7,10], 'max_features': [2, 4, 6, 8],  'max_leaf_nodes':[5,10,15,20],'class_weight':['balanced']},]\n",
    "forest_clf = RandomForestClassifier()\n",
    "grid_search = GridSearchCV(forest_clf, param_grid, cv=5,scoring='f1',return_train_score=True)\n",
    "\n",
    "#fit model with parameters from grid search\n",
    "grid_search.fit(X_train, y_train)"
   ]
  },
  {
   "cell_type": "code",
   "execution_count": 58,
   "metadata": {},
   "outputs": [
    {
     "data": {
      "text/plain": [
       "{'class_weight': 'balanced',\n",
       " 'max_features': 2,\n",
       " 'max_leaf_nodes': 15,\n",
       " 'n_estimators': 10}"
      ]
     },
     "execution_count": 58,
     "metadata": {},
     "output_type": "execute_result"
    }
   ],
   "source": [
    "# Return the best parameters\n",
    "grid_search.best_params_"
   ]
  },
  {
   "cell_type": "code",
   "execution_count": 59,
   "metadata": {},
   "outputs": [],
   "source": [
    "y_pred = grid_search.predict(X_test)"
   ]
  },
  {
   "cell_type": "code",
   "execution_count": 60,
   "metadata": {},
   "outputs": [
    {
     "name": "stdout",
     "output_type": "stream",
     "text": [
      "Accuracy: 0.9590643274853801\n"
     ]
    }
   ],
   "source": [
    "print(\"Accuracy:\",metrics.accuracy_score(y_test, y_pred))"
   ]
  },
  {
   "cell_type": "code",
   "execution_count": 61,
   "metadata": {},
   "outputs": [
    {
     "name": "stdout",
     "output_type": "stream",
     "text": [
      "f1 Score: 0.9510489510489512\n"
     ]
    }
   ],
   "source": [
    "print(\"f1 Score:\",f1_score(y_test, y_pred))"
   ]
  },
  {
   "cell_type": "code",
   "execution_count": null,
   "metadata": {},
   "outputs": [],
   "source": []
  },
  {
   "cell_type": "markdown",
   "metadata": {},
   "source": [
    "## Class Work \n",
    "### Implement Gradient Boosting Classifier and Grid Seach\n",
    "- Use favorite implementation\n",
    "- Boosting Algorithms: [link](https://towardsdatascience.com/https-medium-com-talperetz24-mastering-the-new-generation-of-gradient-boosting-db04062a7ea2)"
   ]
  },
  {
   "cell_type": "code",
   "execution_count": 65,
   "metadata": {},
   "outputs": [
    {
     "name": "stdout",
     "output_type": "stream",
     "text": [
      "Collecting package metadata (current_repodata.json): done\n",
      "Solving environment: - \n",
      "The environment is inconsistent, please check the package plan carefully\n",
      "The following packages are causing the inconsistency:\n",
      "\n",
      "  - defaults/osx-64::pydotplus==2.0.2=py36_1\n",
      "  - defaults/osx-64::entrypoints==0.3=py36_0\n",
      "  - defaults/osx-64::webencodings==0.5.1=py36_1\n",
      "  - defaults/osx-64::s3transfer==0.2.1=py36_0\n",
      "  - defaults/osx-64::scipy==1.1.0=py36h1410ff5_2\n",
      "  - conda-forge/osx-64::jupyter_highlight_selected_word==0.2.0=py36_1000\n",
      "  - defaults/osx-64::networkx==2.2=py36_1\n",
      "  - defaults/osx-64::python-dateutil==2.8.0=py36_0\n",
      "  - defaults/osx-64::cython==0.28.5=py36h0a44026_0\n",
      "  - defaults/osx-64::testpath==0.4.2=py36_0\n",
      "  - defaults/osx-64::ptyprocess==0.6.0=py36_0\n",
      "  - defaults/osx-64::numpy-base==1.16.5=py36h6575580_0\n",
      "  - defaults/osx-64::beautifulsoup4==4.7.1=py36_1\n",
      "  - defaults/osx-64::simplegeneric==0.8.1=py36_2\n",
      "  - defaults/osx-64::seaborn==0.9.0=py36_0\n",
      "  - conda-forge/noarch::joblib==0.14.0=py_0\n",
      "  - defaults/osx-64::asn1crypto==0.24.0=py36_0\n",
      "  - conda-forge/noarch::bleach==3.1.0=py_0\n",
      "  - defaults/osx-64::xlrd==1.1.0=py36_1\n",
      "  - defaults/noarch::nbconvert==5.5.0=py_0\n",
      "  - defaults/noarch::prometheus_client==0.7.1=py_0\n",
      "  - defaults/osx-64::pyspark==2.4.0=py36_0\n",
      "  - defaults/osx-64::wcwidth==0.1.7=py36h8c6ec74_0\n",
      "  - defaults/osx-64::h5py==2.9.0=py36h3134771_0\n",
      "  - defaults/osx-64::backcall==0.1.0=py36_0\n",
      "  - defaults/osx-64::scikit-learn==0.21.3=py36h27c97d8_0\n",
      "  - defaults/osx-64::notebook==6.0.1=py36_0\n",
      "  - defaults/osx-64::pyzmq==18.1.0=py36h0a44026_0\n",
      "  - defaults/osx-64::patsy==0.5.1=py36_0\n",
      "  - defaults/osx-64::send2trash==1.5.0=py36_0\n",
      "  - defaults/osx-64::py-xgboost==0.72=py36h0a44026_0\n",
      "  - defaults/osx-64::parso==0.3.1=py36_0\n",
      "  - defaults/osx-64::pandocfilters==1.4.2=py36_1\n",
      "  - defaults/osx-64::urllib3==1.23=py36_0\n",
      "  - defaults/osx-64::cycler==0.10.0=py36hfc81398_0\n",
      "  - defaults/osx-64::nltk==3.4.5=py36_0\n",
      "  - defaults/osx-64::boto==2.49.0=py36_0\n",
      "  - conda-forge/osx-64::pyyaml==5.1.2=py36h01d97ff_0\n",
      "  - defaults/osx-64::mistune==0.8.4=py36h1de35cc_0\n",
      "  - defaults/osx-64::statsmodels==0.9.0=py36h1d22016_0\n",
      "  - defaults/osx-64::markupsafe==1.1.1=py36h1de35cc_0\n",
      "  - defaults/osx-64::soupsieve==1.9.2=py36_0\n",
      "  - defaults/osx-64::retrying==1.3.3=py36_2\n",
      "  - defaults/noarch::defusedxml==0.6.0=py_0\n",
      "  - conda-forge/osx-64::jupyter_nbextensions_configurator==0.4.1=py36_0\n",
      "  - defaults/osx-64::numpy==1.16.5=py36hacdab7b_0\n",
      "  - defaults/osx-64::mkl_random==1.0.2=py36h27c97d8_0\n",
      "  - defaults/osx-64::ipython==6.5.0=py36_0\n",
      "  - defaults/osx-64::pexpect==4.6.0=py36_0\n",
      "  - defaults/osx-64::chardet==3.0.4=py36_1003\n",
      "  - defaults/osx-64::certifi==2019.9.11=py36_0\n",
      "  - defaults/osx-64::requests==2.19.1=py36_0\n",
      "  - defaults/osx-64::py4j==0.10.7=py36_0\n",
      "  - conda-forge/osx-64::jupyter_latex_envs==1.4.4=py36_1000\n",
      "  - conda-forge/noarch::jupyter_contrib_core==0.3.3=py_2\n",
      "  - defaults/osx-64::python==3.6.6=hc167b69_0\n",
      "  - conda-forge/osx-64::jupyter_contrib_nbextensions==0.5.1=py36_0\n",
      "  - defaults/osx-64::appnope==0.1.0=py36hf537a9a_0\n",
      "  - defaults/osx-64::mkl_fft==1.0.14=py36h5e564d8_0\n",
      "  - defaults/osx-64::cryptography-vectors==2.3.1=py36_0\n",
      "  - defaults/noarch::botocore==1.12.199=py_0\n",
      "  - defaults/osx-64::nb_conda==2.2.1=py36_0\n",
      "  - defaults/osx-64::plotly==3.1.0=py36h28b3542_0\n",
      "  - defaults/osx-64::pytz==2018.5=py36_0\n",
      "  - defaults/osx-64::docutils==0.14=py36hbfde631_0\n",
      "  - defaults/osx-64::idna==2.7=py36_0\n",
      "  - defaults/osx-64::cffi==1.11.5=py36h6174b99_1\n",
      "  - defaults/osx-64::cryptography==2.3.1=py36hdbc3d79_0\n",
      "  - defaults/osx-64::pickleshare==0.7.4=py36hf512f8e_0\n",
      "  - defaults/osx-64::tornado==6.0.3=py36h1de35cc_0\n",
      "  - defaults/osx-64::jedi==0.12.1=py36_0\n",
      "  - defaults/osx-64::nb_conda_kernels==2.2.2=py36_0\n",
      "  - defaults/noarch::tqdm==4.32.1=py_0\n",
      "  - defaults/osx-64::pycparser==2.18=py36_1\n",
      "  - defaults/osx-64::setuptools==40.0.0=py36_0\n",
      "  - defaults/osx-64::ipython_genutils==0.2.0=py36h241746c_0\n",
      "  - defaults/noarch::boto3==1.9.199=py_0\n",
      "  - defaults/osx-64::gensim==3.4.0=py36h1de35cc_0\n",
      "  - defaults/osx-64::bz2file==0.98=py36_1\n",
      "  - defaults/osx-64::nbformat==4.4.0=py36h827af21_0\n",
      "  - conda-forge/osx-64::lxml==4.4.1=py36h08abf6f_0\n",
      "  - defaults/osx-64::mkl-service==2.3.0=py36hfbe908c_0\n",
      "  - defaults/osx-64::six==1.11.0=py36_1\n",
      "  - defaults/osx-64::terminado==0.8.2=py36_0\n",
      "  - defaults/noarch::jmespath==0.9.4=py_0\n",
      "  - defaults/osx-64::pysocks==1.6.8=py36_0\n",
      "  - defaults/osx-64::pygments==2.2.0=py36h240cd3f_0\n",
      "  - defaults/osx-64::jupyter_core==4.4.0=py36_0\n",
      "  - defaults/osx-64::ipykernel==5.1.2=py36h39e3cac_0\n",
      "  - defaults/noarch::jupyter_client==5.3.1=py_0\n",
      "  - defaults/osx-64::jinja2==2.10.1=py36_0\n",
      "  - defaults/noarch::pyparsing==2.4.2=py_0\n",
      "  - defaults/osx-64::jsonschema==2.6.0=py36hb385e00_0\n",
      "  - defaults/noarch::smart_open==1.8.4=py_0\n",
      "  - defaults/osx-64::prompt_toolkit==1.0.15=py36haeda067_0\n",
      "  - defaults/osx-64::wheel==0.31.1=py36_0\n",
      "  - defaults/osx-64::decorator==4.3.0=py36_0\n",
      "  - defaults/osx-64::matplotlib==3.0.2=py36h54f8f79_0\n",
      "  - defaults/osx-64::pyopenssl==18.0.0=py36_0\n",
      "  - defaults/osx-64::kiwisolver==1.1.0=py36h0a44026_0\n",
      "  - defaults/osx-64::pandas==0.23.4=py36h6440ff4_0\n",
      "  - defaults/osx-64::traitlets==4.3.2=py36h65bd3ce_0\n",
      "done\n",
      "\n",
      "## Package Plan ##\n",
      "\n",
      "  environment location: /Users/carolannmoore/anaconda3/envs/learn-env\n",
      "\n",
      "  added / updated specs:\n",
      "    - py-xgboost\n",
      "\n",
      "\n",
      "The following packages will be downloaded:\n",
      "\n",
      "    package                    |            build\n",
      "    ---------------------------|-----------------\n",
      "    pip-19.3.1                 |           py36_0         1.9 MB\n",
      "    ------------------------------------------------------------\n",
      "                                           Total:         1.9 MB\n",
      "\n",
      "The following NEW packages will be INSTALLED:\n",
      "\n",
      "  pip                pkgs/main/osx-64::pip-19.3.1-py36_0\n",
      "\n",
      "The following packages will be UPDATED:\n",
      "\n",
      "  ca-certificates    conda-forge::ca-certificates-2019.9.1~ --> pkgs/main::ca-certificates-2019.10.16-0\n",
      "  openssl            conda-forge::openssl-1.0.2r-h1de35cc_0 --> pkgs/main::openssl-1.0.2t-h1de35cc_1\n",
      "\n",
      "\n",
      "Proceed ([y]/n)? ^C\n",
      "\n",
      "CondaSystemExit: \n",
      "Operation aborted.  Exiting.\n",
      "\n"
     ]
    },
    {
     "ename": "NameError",
     "evalue": "name 'y' is not defined",
     "output_type": "error",
     "traceback": [
      "\u001b[0;31m---------------------------------------------------------------------------\u001b[0m",
      "\u001b[0;31mNameError\u001b[0m                                 Traceback (most recent call last)",
      "\u001b[0;32m<ipython-input-65-2d99b079b741>\u001b[0m in \u001b[0;36m<module>\u001b[0;34m()\u001b[0m\n\u001b[1;32m      1\u001b[0m \u001b[0mget_ipython\u001b[0m\u001b[0;34m(\u001b[0m\u001b[0;34m)\u001b[0m\u001b[0;34m.\u001b[0m\u001b[0msystem\u001b[0m\u001b[0;34m(\u001b[0m\u001b[0;34m'conda install py-xgboost'\u001b[0m\u001b[0;34m)\u001b[0m\u001b[0;34m\u001b[0m\u001b[0m\n\u001b[0;32m----> 2\u001b[0;31m \u001b[0my\u001b[0m\u001b[0;34m\u001b[0m\u001b[0m\n\u001b[0m",
      "\u001b[0;31mNameError\u001b[0m: name 'y' is not defined"
     ]
    }
   ],
   "source": [
    "!conda install py-xgboost\n",
    "y"
   ]
  },
  {
   "cell_type": "code",
<<<<<<< HEAD
   "execution_count": 67,
=======
   "execution_count": 16,
>>>>>>> ca0a55842c50d2d7a722837bdff285729eefcd5e
   "metadata": {},
   "outputs": [],
   "source": [
    "import xgboost as xgb"
   ]
  },
  {
   "cell_type": "code",
   "execution_count": 68,
   "metadata": {},
   "outputs": [
    {
     "data": {
      "text/plain": [
       "XGBClassifier(base_score=0.5, booster='gbtree', colsample_bylevel=1,\n",
       "              colsample_bytree=1, gamma=0, learning_rate=0.1, max_delta_step=0,\n",
       "              max_depth=3, min_child_weight=1, missing=None, n_estimators=100,\n",
       "              n_jobs=1, nthread=None, objective='binary:logistic',\n",
       "              random_state=0, reg_alpha=0, reg_lambda=1, scale_pos_weight=1,\n",
       "              seed=None, silent=True, subsample=1)"
      ]
     },
     "execution_count": 68,
     "metadata": {},
     "output_type": "execute_result"
    }
   ],
   "source": [
    "xgb_clf = xgb.XGBClassifier()\n",
    "xgb_clf.fit(X_train, y_train)"
   ]
  },
  {
   "cell_type": "markdown",
   "metadata": {},
   "source": [
    "Parameters XGBOOST: [link](https://xgboost.readthedocs.io/en/latest/parameter.html)\n",
    "\n"
   ]
  },
  {
   "cell_type": "code",
<<<<<<< HEAD
   "execution_count": 69,
=======
   "execution_count": 1,
>>>>>>> ca0a55842c50d2d7a722837bdff285729eefcd5e
   "metadata": {},
   "outputs": [],
   "source": [
    "param_grid = {\"learning_rate\": [0.1,0.01,.5],'max_depth': [1,5,10,20],'min_child_weight': [10],'subsample': [ 0.5],'n_estimators': [5, 30, 100, 250,1000],}"
   ]
  },
  {
   "cell_type": "code",
<<<<<<< HEAD
   "execution_count": 70,
   "metadata": {},
   "outputs": [
    {
     "data": {
      "text/plain": [
       "GridSearchCV(cv=5, error_score='raise-deprecating',\n",
       "             estimator=XGBClassifier(base_score=0.5, booster='gbtree',\n",
       "                                     colsample_bylevel=1, colsample_bytree=1,\n",
       "                                     gamma=0, learning_rate=0.1,\n",
       "                                     max_delta_step=0, max_depth=3,\n",
       "                                     min_child_weight=1, missing=None,\n",
       "                                     n_estimators=100, n_jobs=1, nthread=None,\n",
       "                                     objective='binary:logistic',\n",
       "                                     random_state=0, reg_alpha=0, reg_lambda=1,\n",
       "                                     scale_pos_weight=1, seed=None, silent=True,\n",
       "                                     subsample=1),\n",
       "             iid='warn', n_jobs=None,\n",
       "             param_grid={'learning_rate': [0.1, 0.01, 0.5],\n",
       "                         'max_depth': [1, 5, 10, 20], 'min_child_weight': [10],\n",
       "                         'n_estimators': [5, 30, 100, 250, 1000],\n",
       "                         'subsample': [0.5]},\n",
       "             pre_dispatch='2*n_jobs', refit=True, return_train_score=True,\n",
       "             scoring='f1', verbose=0)"
      ]
     },
     "execution_count": 70,
     "metadata": {},
     "output_type": "execute_result"
=======
   "execution_count": 2,
   "metadata": {},
   "outputs": [
    {
     "ename": "NameError",
     "evalue": "name 'xgb' is not defined",
     "output_type": "error",
     "traceback": [
      "\u001b[0;31m---------------------------------------------------------------------------\u001b[0m",
      "\u001b[0;31mNameError\u001b[0m                                 Traceback (most recent call last)",
      "\u001b[0;32m<ipython-input-2-c73b30382ac1>\u001b[0m in \u001b[0;36m<module>\u001b[0;34m\u001b[0m\n\u001b[1;32m      1\u001b[0m \u001b[0;32mfrom\u001b[0m \u001b[0msklearn\u001b[0m\u001b[0;34m.\u001b[0m\u001b[0mmodel_selection\u001b[0m \u001b[0;32mimport\u001b[0m \u001b[0mGridSearchCV\u001b[0m\u001b[0;34m\u001b[0m\u001b[0;34m\u001b[0m\u001b[0m\n\u001b[0;32m----> 2\u001b[0;31m \u001b[0mxgb_clf\u001b[0m\u001b[0;34m=\u001b[0m \u001b[0mxgb\u001b[0m\u001b[0;34m.\u001b[0m\u001b[0mXGBClassifier\u001b[0m\u001b[0;34m(\u001b[0m\u001b[0;34m)\u001b[0m\u001b[0;34m\u001b[0m\u001b[0;34m\u001b[0m\u001b[0m\n\u001b[0m\u001b[1;32m      3\u001b[0m \u001b[0mgrid_search\u001b[0m \u001b[0;34m=\u001b[0m \u001b[0mGridSearchCV\u001b[0m\u001b[0;34m(\u001b[0m\u001b[0mxgb_clf\u001b[0m\u001b[0;34m,\u001b[0m \u001b[0mparam_grid\u001b[0m\u001b[0;34m,\u001b[0m \u001b[0mcv\u001b[0m\u001b[0;34m=\u001b[0m\u001b[0;36m5\u001b[0m\u001b[0;34m,\u001b[0m\u001b[0mscoring\u001b[0m\u001b[0;34m=\u001b[0m\u001b[0;34m'f1'\u001b[0m\u001b[0;34m,\u001b[0m\u001b[0mreturn_train_score\u001b[0m\u001b[0;34m=\u001b[0m\u001b[0;32mTrue\u001b[0m\u001b[0;34m)\u001b[0m\u001b[0;34m\u001b[0m\u001b[0;34m\u001b[0m\u001b[0m\n\u001b[1;32m      4\u001b[0m \u001b[0;34m\u001b[0m\u001b[0m\n\u001b[1;32m      5\u001b[0m \u001b[0;31m#fit model with parameters from grid search\u001b[0m\u001b[0;34m\u001b[0m\u001b[0;34m\u001b[0m\u001b[0;34m\u001b[0m\u001b[0m\n",
      "\u001b[0;31mNameError\u001b[0m: name 'xgb' is not defined"
     ]
>>>>>>> ca0a55842c50d2d7a722837bdff285729eefcd5e
    }
   ],
   "source": [
    "from sklearn.model_selection import GridSearchCV\n",
    "xgb_clf= xgb.XGBClassifier()\n",
    "grid_search = GridSearchCV(xgb_clf, param_grid, cv=5,scoring='f1',return_train_score=True)\n",
    "\n",
    "#fit model with parameters from grid search\n",
    "grid_search.fit(X_train, y_train)"
   ]
  },
  {
   "cell_type": "code",
   "execution_count": 36,
   "metadata": {},
   "outputs": [
    {
     "name": "stdout",
     "output_type": "stream",
     "text": [
      "Accuracy: 0.9532163742690059\n"
     ]
    }
   ],
   "source": [
    "y_pred = grid_search.predict(X_test)\n",
    "print(\"Accuracy:\",metrics.accuracy_score(y_test, y_pred))"
   ]
  },
  {
   "cell_type": "code",
   "execution_count": 37,
   "metadata": {},
   "outputs": [
    {
     "name": "stdout",
     "output_type": "stream",
     "text": [
      "f1 Score: 0.9428571428571428\n"
     ]
    }
   ],
   "source": [
    "print(\"f1 Score:\",f1_score(y_test, y_pred))"
   ]
  },
  {
   "cell_type": "code",
   "execution_count": 66,
   "metadata": {},
   "outputs": [
    {
     "name": "stdout",
     "output_type": "stream",
     "text": [
      "Requirement already satisfied: ipywidgets in /Users/carolannmoore/anaconda3/envs/learn-env/lib/python3.6/site-packages (7.5.1)\n",
      "Requirement already satisfied: nbformat>=4.2.0 in /Users/carolannmoore/anaconda3/envs/learn-env/lib/python3.6/site-packages (from ipywidgets) (4.4.0)\n",
      "Requirement already satisfied: ipython>=4.0.0; python_version >= \"3.3\" in /Users/carolannmoore/anaconda3/envs/learn-env/lib/python3.6/site-packages (from ipywidgets) (6.5.0)\n",
      "Requirement already satisfied: widgetsnbextension~=3.5.0 in /Users/carolannmoore/anaconda3/envs/learn-env/lib/python3.6/site-packages (from ipywidgets) (3.5.1)\n",
      "Requirement already satisfied: traitlets>=4.3.1 in /Users/carolannmoore/anaconda3/envs/learn-env/lib/python3.6/site-packages (from ipywidgets) (4.3.2)\n",
      "Requirement already satisfied: ipykernel>=4.5.1 in /Users/carolannmoore/anaconda3/envs/learn-env/lib/python3.6/site-packages (from ipywidgets) (5.1.2)\n",
      "Requirement already satisfied: ipython_genutils in /Users/carolannmoore/anaconda3/envs/learn-env/lib/python3.6/site-packages (from nbformat>=4.2.0->ipywidgets) (0.2.0)\n",
      "Requirement already satisfied: jsonschema!=2.5.0,>=2.4 in /Users/carolannmoore/anaconda3/envs/learn-env/lib/python3.6/site-packages (from nbformat>=4.2.0->ipywidgets) (2.6.0)\n",
      "Requirement already satisfied: jupyter_core in /Users/carolannmoore/anaconda3/envs/learn-env/lib/python3.6/site-packages (from nbformat>=4.2.0->ipywidgets) (4.4.0)\n",
      "Requirement already satisfied: setuptools>=18.5 in /Users/carolannmoore/anaconda3/envs/learn-env/lib/python3.6/site-packages (from ipython>=4.0.0; python_version >= \"3.3\"->ipywidgets) (40.0.0)\n",
      "Requirement already satisfied: decorator in /Users/carolannmoore/anaconda3/envs/learn-env/lib/python3.6/site-packages (from ipython>=4.0.0; python_version >= \"3.3\"->ipywidgets) (4.3.0)\n",
      "Requirement already satisfied: jedi>=0.10 in /Users/carolannmoore/anaconda3/envs/learn-env/lib/python3.6/site-packages (from ipython>=4.0.0; python_version >= \"3.3\"->ipywidgets) (0.12.1)\n",
      "Requirement already satisfied: pickleshare in /Users/carolannmoore/anaconda3/envs/learn-env/lib/python3.6/site-packages (from ipython>=4.0.0; python_version >= \"3.3\"->ipywidgets) (0.7.4)\n",
      "Requirement already satisfied: pygments in /Users/carolannmoore/anaconda3/envs/learn-env/lib/python3.6/site-packages (from ipython>=4.0.0; python_version >= \"3.3\"->ipywidgets) (2.2.0)\n",
      "Requirement already satisfied: prompt-toolkit<2.0.0,>=1.0.15 in /Users/carolannmoore/anaconda3/envs/learn-env/lib/python3.6/site-packages (from ipython>=4.0.0; python_version >= \"3.3\"->ipywidgets) (1.0.15)\n",
      "Requirement already satisfied: simplegeneric>0.8 in /Users/carolannmoore/anaconda3/envs/learn-env/lib/python3.6/site-packages (from ipython>=4.0.0; python_version >= \"3.3\"->ipywidgets) (0.8.1)\n",
      "Requirement already satisfied: backcall in /Users/carolannmoore/anaconda3/envs/learn-env/lib/python3.6/site-packages (from ipython>=4.0.0; python_version >= \"3.3\"->ipywidgets) (0.1.0)\n",
      "Requirement already satisfied: appnope; sys_platform == \"darwin\" in /Users/carolannmoore/anaconda3/envs/learn-env/lib/python3.6/site-packages (from ipython>=4.0.0; python_version >= \"3.3\"->ipywidgets) (0.1.0)\n",
      "Requirement already satisfied: pexpect; sys_platform != \"win32\" in /Users/carolannmoore/anaconda3/envs/learn-env/lib/python3.6/site-packages (from ipython>=4.0.0; python_version >= \"3.3\"->ipywidgets) (4.6.0)\n",
      "Requirement already satisfied: notebook>=4.4.1 in /Users/carolannmoore/anaconda3/envs/learn-env/lib/python3.6/site-packages (from widgetsnbextension~=3.5.0->ipywidgets) (6.0.1)\n",
      "Requirement already satisfied: six in /Users/carolannmoore/anaconda3/envs/learn-env/lib/python3.6/site-packages (from traitlets>=4.3.1->ipywidgets) (1.11.0)\n",
      "Requirement already satisfied: jupyter-client in /Users/carolannmoore/anaconda3/envs/learn-env/lib/python3.6/site-packages (from ipykernel>=4.5.1->ipywidgets) (5.3.1)\n",
      "Requirement already satisfied: tornado>=4.2 in /Users/carolannmoore/anaconda3/envs/learn-env/lib/python3.6/site-packages (from ipykernel>=4.5.1->ipywidgets) (6.0.3)\n",
      "Requirement already satisfied: parso>=0.3.0 in /Users/carolannmoore/anaconda3/envs/learn-env/lib/python3.6/site-packages (from jedi>=0.10->ipython>=4.0.0; python_version >= \"3.3\"->ipywidgets) (0.3.1)\n",
      "Requirement already satisfied: wcwidth in /Users/carolannmoore/anaconda3/envs/learn-env/lib/python3.6/site-packages (from prompt-toolkit<2.0.0,>=1.0.15->ipython>=4.0.0; python_version >= \"3.3\"->ipywidgets) (0.1.7)\n",
      "Requirement already satisfied: ptyprocess>=0.5 in /Users/carolannmoore/anaconda3/envs/learn-env/lib/python3.6/site-packages (from pexpect; sys_platform != \"win32\"->ipython>=4.0.0; python_version >= \"3.3\"->ipywidgets) (0.6.0)\n",
      "Requirement already satisfied: terminado>=0.8.1 in /Users/carolannmoore/anaconda3/envs/learn-env/lib/python3.6/site-packages (from notebook>=4.4.1->widgetsnbextension~=3.5.0->ipywidgets) (0.8.2)\n",
      "Requirement already satisfied: Send2Trash in /Users/carolannmoore/anaconda3/envs/learn-env/lib/python3.6/site-packages (from notebook>=4.4.1->widgetsnbextension~=3.5.0->ipywidgets) (1.5.0)\n",
      "Requirement already satisfied: nbconvert in /Users/carolannmoore/anaconda3/envs/learn-env/lib/python3.6/site-packages (from notebook>=4.4.1->widgetsnbextension~=3.5.0->ipywidgets) (5.5.0)\n",
      "Requirement already satisfied: prometheus-client in /Users/carolannmoore/anaconda3/envs/learn-env/lib/python3.6/site-packages (from notebook>=4.4.1->widgetsnbextension~=3.5.0->ipywidgets) (0.7.1)\n",
      "Requirement already satisfied: jinja2 in /Users/carolannmoore/anaconda3/envs/learn-env/lib/python3.6/site-packages (from notebook>=4.4.1->widgetsnbextension~=3.5.0->ipywidgets) (2.10.1)\n",
      "Requirement already satisfied: pyzmq>=17 in /Users/carolannmoore/anaconda3/envs/learn-env/lib/python3.6/site-packages (from notebook>=4.4.1->widgetsnbextension~=3.5.0->ipywidgets) (18.1.0)\n",
      "Requirement already satisfied: python-dateutil>=2.1 in /Users/carolannmoore/anaconda3/envs/learn-env/lib/python3.6/site-packages (from jupyter-client->ipykernel>=4.5.1->ipywidgets) (2.8.0)\n",
      "Requirement already satisfied: entrypoints>=0.2.2 in /Users/carolannmoore/anaconda3/envs/learn-env/lib/python3.6/site-packages (from nbconvert->notebook>=4.4.1->widgetsnbextension~=3.5.0->ipywidgets) (0.3)\n",
      "Requirement already satisfied: testpath in /Users/carolannmoore/anaconda3/envs/learn-env/lib/python3.6/site-packages (from nbconvert->notebook>=4.4.1->widgetsnbextension~=3.5.0->ipywidgets) (0.4.2)\n",
      "Requirement already satisfied: pandocfilters>=1.4.1 in /Users/carolannmoore/anaconda3/envs/learn-env/lib/python3.6/site-packages (from nbconvert->notebook>=4.4.1->widgetsnbextension~=3.5.0->ipywidgets) (1.4.2)\n",
      "Requirement already satisfied: mistune>=0.8.1 in /Users/carolannmoore/anaconda3/envs/learn-env/lib/python3.6/site-packages (from nbconvert->notebook>=4.4.1->widgetsnbextension~=3.5.0->ipywidgets) (0.8.4)\n",
      "Requirement already satisfied: bleach in /Users/carolannmoore/anaconda3/envs/learn-env/lib/python3.6/site-packages (from nbconvert->notebook>=4.4.1->widgetsnbextension~=3.5.0->ipywidgets) (3.1.0)\n",
      "Requirement already satisfied: defusedxml in /Users/carolannmoore/anaconda3/envs/learn-env/lib/python3.6/site-packages (from nbconvert->notebook>=4.4.1->widgetsnbextension~=3.5.0->ipywidgets) (0.6.0)\n",
      "Requirement already satisfied: MarkupSafe>=0.23 in /Users/carolannmoore/anaconda3/envs/learn-env/lib/python3.6/site-packages (from jinja2->notebook>=4.4.1->widgetsnbextension~=3.5.0->ipywidgets) (1.1.1)\n",
      "Requirement already satisfied: webencodings in /Users/carolannmoore/anaconda3/envs/learn-env/lib/python3.6/site-packages (from bleach->nbconvert->notebook>=4.4.1->widgetsnbextension~=3.5.0->ipywidgets) (0.5.1)\n",
      "Enabling notebook extension jupyter-js-widgets/extension...\n",
      "      - Validating: \u001b[32mOK\u001b[0m\n"
     ]
    }
   ],
   "source": [
    "# !pip install catboost\n",
    "!pip install ipywidgets\n",
    "!jupyter nbextension enable --py widgetsnbextension"
   ]
  },
  {
   "cell_type": "code",
   "execution_count": 72,
   "metadata": {},
   "outputs": [],
   "source": [
    "from catboost import CatBoostClassifier, Pool, cv\n",
    "cboost = CatBoostClassifier()"
   ]
  },
  {
   "cell_type": "code",
   "execution_count": null,
   "metadata": {},
   "outputs": [],
   "source": []
  },
  {
   "cell_type": "code",
   "execution_count": null,
   "metadata": {},
   "outputs": [],
   "source": []
  }
 ],
 "metadata": {
  "kernelspec": {
   "display_name": "Python 3",
   "language": "python",
   "name": "python3"
  },
  "language_info": {
   "codemirror_mode": {
    "name": "ipython",
    "version": 3
   },
   "file_extension": ".py",
   "mimetype": "text/x-python",
   "name": "python",
   "nbconvert_exporter": "python",
   "pygments_lexer": "ipython3",
   "version": "3.6.6"
  },
  "varInspector": {
   "cols": {
    "lenName": 16,
    "lenType": 16,
    "lenVar": 40
   },
   "kernels_config": {
    "python": {
     "delete_cmd_postfix": "",
     "delete_cmd_prefix": "del ",
     "library": "var_list.py",
     "varRefreshCmd": "print(var_dic_list())"
    },
    "r": {
     "delete_cmd_postfix": ") ",
     "delete_cmd_prefix": "rm(",
     "library": "var_list.r",
     "varRefreshCmd": "cat(var_dic_list()) "
    }
   },
   "types_to_exclude": [
    "module",
    "function",
    "builtin_function_or_method",
    "instance",
    "_Feature"
   ],
   "window_display": false
  }
 },
 "nbformat": 4,
 "nbformat_minor": 2
}
